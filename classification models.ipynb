{
  "nbformat": 4,
  "nbformat_minor": 0,
  "metadata": {
    "colab": {
      "name": "models.ipynb",
      "version": "0.3.2",
      "provenance": [],
      "collapsed_sections": [],
      "toc_visible": true
    },
    "kernelspec": {
      "name": "python2",
      "display_name": "Python 2"
    }
  },
  "cells": [
    {
      "metadata": {
        "id": "Eup9nxBhjfqH",
        "colab_type": "text"
      },
      "cell_type": "markdown",
      "source": [
        "# 1. set the environment"
      ]
    },
    {
      "metadata": {
        "id": "Vp9J9xxAjidS",
        "colab_type": "code",
        "colab": {}
      },
      "cell_type": "code",
      "source": [
        "import pandas as pd\n",
        "import numpy as np\n",
        "from sklearn.preprocessing import StandardScaler\n",
        "from sklearn.model_selection import train_test_split\n",
        "from sklearn.ensemble  import RandomForestClassifier as rfc\n",
        "from sklearn.preprocessing import MinMaxScaler\n",
        "from sklearn.tree import DecisionTreeClassifier\n",
        "from sklearn.svm import SVC\n",
        "from sklearn.linear_model import LogisticRegression\n",
        "import seaborn as sns\n",
        "import matplotlib as plt\n",
        "#!pip install seaborn==0.9.0 \n",
        "from sklearn.preprocessing import OneHotEncoder\n",
        "import keras\n",
        "from keras.models import Sequential\n",
        "from keras.layers import Dense\n",
        "from keras.callbacks import History "
      ],
      "execution_count": 0,
      "outputs": []
    },
    {
      "metadata": {
        "id": "56yfG_YbjYGz",
        "colab_type": "text"
      },
      "cell_type": "markdown",
      "source": [
        "#2.  import data"
      ]
    },
    {
      "metadata": {
        "id": "vgICYZ5ZjWL6",
        "colab_type": "code",
        "colab": {}
      },
      "cell_type": "code",
      "source": [
        "violations=pd.read_csv(\"gdc.csv\")"
      ],
      "execution_count": 0,
      "outputs": []
    },
    {
      "metadata": {
        "id": "FxTKpgaEjXS0",
        "colab_type": "code",
        "colab": {
          "base_uri": "https://localhost:8080/",
          "height": 547
        },
        "outputId": "61953783-9199-4d52-f805-d822778335ea"
      },
      "cell_type": "code",
      "source": [
        "violations.head()"
      ],
      "execution_count": 3,
      "outputs": [
        {
          "output_type": "execute_result",
          "data": {
            "text/html": [
              "<div>\n",
              "<style scoped>\n",
              "    .dataframe tbody tr th:only-of-type {\n",
              "        vertical-align: middle;\n",
              "    }\n",
              "\n",
              "    .dataframe tbody tr th {\n",
              "        vertical-align: top;\n",
              "    }\n",
              "\n",
              "    .dataframe thead th {\n",
              "        text-align: right;\n",
              "    }\n",
              "</style>\n",
              "<table border=\"1\" class=\"dataframe\">\n",
              "  <thead>\n",
              "    <tr style=\"text-align: right;\">\n",
              "      <th></th>\n",
              "      <th>Unnamed: 0</th>\n",
              "      <th>Center Name</th>\n",
              "      <th>Legal Name</th>\n",
              "      <th>Building</th>\n",
              "      <th>Maximum Capacity</th>\n",
              "      <th>Day Care ID</th>\n",
              "      <th>Violation Rate Percent</th>\n",
              "      <th>Total Educational Workers</th>\n",
              "      <th>Public Health Hazard Violation Rate</th>\n",
              "      <th>Critical Violation Rate</th>\n",
              "      <th>Inspection Date</th>\n",
              "      <th>Violation Category</th>\n",
              "      <th>Health Code Sub Section</th>\n",
              "      <th>Violation Status</th>\n",
              "      <th>Critical Violation</th>\n",
              "      <th>General Violation</th>\n",
              "      <th>Public Health Hazard</th>\n",
              "      <th>No Violation</th>\n",
              "      <th>SUBSECTION_SIMPLE</th>\n",
              "    </tr>\n",
              "  </thead>\n",
              "  <tbody>\n",
              "    <tr>\n",
              "      <th>0</th>\n",
              "      <td>0</td>\n",
              "      <td>CENTRAL PARK MONTESSORI, INC.</td>\n",
              "      <td>CENTRAL PARK MONTESSORI, INC.</td>\n",
              "      <td>1</td>\n",
              "      <td>138</td>\n",
              "      <td>DC21252</td>\n",
              "      <td>25.0000</td>\n",
              "      <td>23</td>\n",
              "      <td>0.0000</td>\n",
              "      <td>25.0000</td>\n",
              "      <td>2019-03-20</td>\n",
              "      <td>No_Violation</td>\n",
              "      <td>No_Violation</td>\n",
              "      <td>No_Violation</td>\n",
              "      <td>0</td>\n",
              "      <td>0</td>\n",
              "      <td>0</td>\n",
              "      <td>1</td>\n",
              "      <td>No_Violation</td>\n",
              "    </tr>\n",
              "    <tr>\n",
              "      <th>1</th>\n",
              "      <td>1</td>\n",
              "      <td>BUILDING BLOCKS DAY CARE</td>\n",
              "      <td>BUILDING BLOCKS DAY CARE LLC</td>\n",
              "      <td>6810</td>\n",
              "      <td>24</td>\n",
              "      <td>DC31738</td>\n",
              "      <td>40.0000</td>\n",
              "      <td>5</td>\n",
              "      <td>20.0000</td>\n",
              "      <td>40.0000</td>\n",
              "      <td>2016-04-19</td>\n",
              "      <td>CRITICAL</td>\n",
              "      <td>47.33 (b)</td>\n",
              "      <td>CORRECTED</td>\n",
              "      <td>1</td>\n",
              "      <td>0</td>\n",
              "      <td>0</td>\n",
              "      <td>0</td>\n",
              "      <td>47.33</td>\n",
              "    </tr>\n",
              "    <tr>\n",
              "      <th>2</th>\n",
              "      <td>2</td>\n",
              "      <td>THE WILLIAMSBURG NURSERY SCHOOL</td>\n",
              "      <td>THE WILLIAMSBURG NEIGHBORHOOD NURSERY SCHOOL</td>\n",
              "      <td>54</td>\n",
              "      <td>62</td>\n",
              "      <td>DC21940</td>\n",
              "      <td>60.0000</td>\n",
              "      <td>11</td>\n",
              "      <td>20.0000</td>\n",
              "      <td>60.0000</td>\n",
              "      <td>2016-05-11</td>\n",
              "      <td>PUBLIC HEALTH HAZARD</td>\n",
              "      <td>47.41 (e)</td>\n",
              "      <td>CORRECTED</td>\n",
              "      <td>0</td>\n",
              "      <td>0</td>\n",
              "      <td>0</td>\n",
              "      <td>0</td>\n",
              "      <td>47.41</td>\n",
              "    </tr>\n",
              "    <tr>\n",
              "      <th>3</th>\n",
              "      <td>3</td>\n",
              "      <td>QUEENS LIBRARY UNIVERSAL PRE-KINDERGARTEN PROG...</td>\n",
              "      <td>QUEENS BOROUGH PUBLIC LIBRARY</td>\n",
              "      <td>85-41</td>\n",
              "      <td>18</td>\n",
              "      <td>DC31867</td>\n",
              "      <td>71.4286</td>\n",
              "      <td>2</td>\n",
              "      <td>14.2857</td>\n",
              "      <td>71.4286</td>\n",
              "      <td>2016-07-20</td>\n",
              "      <td>CRITICAL</td>\n",
              "      <td>47.33 (b)</td>\n",
              "      <td>CORRECTED</td>\n",
              "      <td>1</td>\n",
              "      <td>0</td>\n",
              "      <td>0</td>\n",
              "      <td>0</td>\n",
              "      <td>47.33</td>\n",
              "    </tr>\n",
              "    <tr>\n",
              "      <th>4</th>\n",
              "      <td>4</td>\n",
              "      <td>ASSOCIATION TO BENEFIT CHILDREN</td>\n",
              "      <td>ASSOCIATION TO BENEFIT CHILDREN</td>\n",
              "      <td>1841</td>\n",
              "      <td>127</td>\n",
              "      <td>DC1135</td>\n",
              "      <td>37.5000</td>\n",
              "      <td>25</td>\n",
              "      <td>25.0000</td>\n",
              "      <td>37.5000</td>\n",
              "      <td>2018-08-30</td>\n",
              "      <td>No_Violation</td>\n",
              "      <td>No_Violation</td>\n",
              "      <td>No_Violation</td>\n",
              "      <td>0</td>\n",
              "      <td>0</td>\n",
              "      <td>0</td>\n",
              "      <td>1</td>\n",
              "      <td>No_Violation</td>\n",
              "    </tr>\n",
              "  </tbody>\n",
              "</table>\n",
              "</div>"
            ],
            "text/plain": [
              "   Unnamed: 0                                        Center Name  \\\n",
              "0           0                      CENTRAL PARK MONTESSORI, INC.   \n",
              "1           1                           BUILDING BLOCKS DAY CARE   \n",
              "2           2                    THE WILLIAMSBURG NURSERY SCHOOL   \n",
              "3           3  QUEENS LIBRARY UNIVERSAL PRE-KINDERGARTEN PROG...   \n",
              "4           4                    ASSOCIATION TO BENEFIT CHILDREN   \n",
              "\n",
              "                                     Legal Name Building  Maximum Capacity  \\\n",
              "0                 CENTRAL PARK MONTESSORI, INC.        1               138   \n",
              "1                  BUILDING BLOCKS DAY CARE LLC     6810                24   \n",
              "2  THE WILLIAMSBURG NEIGHBORHOOD NURSERY SCHOOL       54                62   \n",
              "3                 QUEENS BOROUGH PUBLIC LIBRARY    85-41                18   \n",
              "4               ASSOCIATION TO BENEFIT CHILDREN     1841               127   \n",
              "\n",
              "  Day Care ID  Violation Rate Percent  Total Educational Workers  \\\n",
              "0     DC21252                 25.0000                         23   \n",
              "1     DC31738                 40.0000                          5   \n",
              "2     DC21940                 60.0000                         11   \n",
              "3     DC31867                 71.4286                          2   \n",
              "4      DC1135                 37.5000                         25   \n",
              "\n",
              "   Public Health Hazard Violation Rate  Critical Violation Rate  \\\n",
              "0                               0.0000                  25.0000   \n",
              "1                              20.0000                  40.0000   \n",
              "2                              20.0000                  60.0000   \n",
              "3                              14.2857                  71.4286   \n",
              "4                              25.0000                  37.5000   \n",
              "\n",
              "  Inspection Date    Violation Category Health Code Sub Section  \\\n",
              "0      2019-03-20          No_Violation            No_Violation   \n",
              "1      2016-04-19              CRITICAL               47.33 (b)   \n",
              "2      2016-05-11  PUBLIC HEALTH HAZARD               47.41 (e)   \n",
              "3      2016-07-20              CRITICAL               47.33 (b)   \n",
              "4      2018-08-30          No_Violation            No_Violation   \n",
              "\n",
              "  Violation Status  Critical Violation  General Violation  \\\n",
              "0     No_Violation                   0                  0   \n",
              "1        CORRECTED                   1                  0   \n",
              "2        CORRECTED                   0                  0   \n",
              "3        CORRECTED                   1                  0   \n",
              "4     No_Violation                   0                  0   \n",
              "\n",
              "   Public Health Hazard  No Violation SUBSECTION_SIMPLE  \n",
              "0                     0             1      No_Violation  \n",
              "1                     0             0             47.33  \n",
              "2                     0             0             47.41  \n",
              "3                     0             0             47.33  \n",
              "4                     0             1      No_Violation  "
            ]
          },
          "metadata": {
            "tags": []
          },
          "execution_count": 3
        }
      ]
    },
    {
      "metadata": {
        "id": "ttF2lRzMjXYj",
        "colab_type": "code",
        "colab": {
          "base_uri": "https://localhost:8080/",
          "height": 34
        },
        "outputId": "df50dbb3-24be-49a7-d3dd-c5109f229759"
      },
      "cell_type": "code",
      "source": [
        "violations=violations.dropna(how=\"any\")\n",
        "violations.shape"
      ],
      "execution_count": 4,
      "outputs": [
        {
          "output_type": "execute_result",
          "data": {
            "text/plain": [
              "(51156, 19)"
            ]
          },
          "metadata": {
            "tags": []
          },
          "execution_count": 4
        }
      ]
    },
    {
      "metadata": {
        "id": "4DSXKdOxGx4K",
        "colab_type": "text"
      },
      "cell_type": "markdown",
      "source": [
        "# 3. data visualization"
      ]
    },
    {
      "metadata": {
        "id": "BFsQ4xRsG15j",
        "colab_type": "text"
      },
      "cell_type": "markdown",
      "source": [
        "## 3.1 visualize features"
      ]
    },
    {
      "metadata": {
        "id": "QE1ZED-HG6mW",
        "colab_type": "code",
        "colab": {
          "base_uri": "https://localhost:8080/",
          "height": 365
        },
        "outputId": "789e161c-2c5b-4ed9-d582-095fb677d6c2"
      },
      "cell_type": "code",
      "source": [
        "import matplotlib.pyplot as plt\n",
        "sns.set(style=\"white\", color_codes=True)\n",
        "f, axes = plt.subplots(1, 5,figsize=(12, 5), sharex=False)\n",
        "sns.despine(left=True)\n",
        "\n",
        "sns.distplot(violations[\"Maximum Capacity\"],color=\"m\",ax=axes[0])\n",
        "sns.distplot(violations[\"Total Educational Workers\"],color=\"m\",ax=axes[1])\n",
        "sns.distplot(violations[\"Violation Rate Percent\"],color=\"m\",ax=axes[2])\n",
        "sns.distplot(violations[\"Public Health Hazard Violation Rate\"],color=\"m\",ax=axes[3])\n",
        "sns.distplot(violations[\"Critical Violation Rate\"],color=\"m\",ax=axes[4])\n",
        "\n",
        "plt.setp(axes, yticks=[])\n",
        "plt.tight_layout()"
      ],
      "execution_count": 52,
      "outputs": [
        {
          "output_type": "display_data",
          "data": {
            "image/png": "[encoded data removed]",
            "text/plain": [
              "<Figure size 864x360 with 5 Axes>"
            ]
          },
          "metadata": {
            "tags": []
          }
        }
      ]
    },
    {
      "metadata": {
        "id": "oYxDP1KWGkDB",
        "colab_type": "text"
      },
      "cell_type": "markdown",
      "source": [
        "## 3.2 visualize relations between pairs of features"
      ]
    },
    {
      "metadata": {
        "id": "AufvfIapB80e",
        "colab_type": "code",
        "colab": {
          "base_uri": "https://localhost:8080/",
          "height": 454
        },
        "outputId": "e57beb7e-7590-407a-bfd2-c07860f16568"
      },
      "cell_type": "code",
      "source": [
        "sns.jointplot(x='Maximum Capacity', y='Critical Violation Rate', data=violations, kind='kde')"
      ],
      "execution_count": 7,
      "outputs": [
        {
          "output_type": "execute_result",
          "data": {
            "text/plain": [
              "<seaborn.axisgrid.JointGrid at 0x7f782d9c7590>"
            ]
          },
          "metadata": {
            "tags": []
          },
          "execution_count": 7
        },
        {
          "output_type": "display_data",
          "data": {
            "image/png": "[encoded data removed]",
            "text/plain": [
              "<Figure size 432x432 with 3 Axes>"
            ]
          },
          "metadata": {
            "tags": []
          }
        }
      ]
    },
    {
      "metadata": {
        "id": "0celgcj_EH8y",
        "colab_type": "code",
        "colab": {
          "base_uri": "https://localhost:8080/",
          "height": 454
        },
        "outputId": "42315256-1991-47f0-c0a4-3465d12af5c9"
      },
      "cell_type": "code",
      "source": [
        "sns.jointplot(x='Maximum Capacity', y='Violation Rate Percent', data=violations, kind='kde')"
      ],
      "execution_count": 12,
      "outputs": [
        {
          "output_type": "execute_result",
          "data": {
            "text/plain": [
              "<seaborn.axisgrid.JointGrid at 0x7f782d432890>"
            ]
          },
          "metadata": {
            "tags": []
          },
          "execution_count": 12
        },
        {
          "output_type": "display_data",
          "data": {
            "image/png": "[encoded data removed]",
            "text/plain": [
              "<Figure size 432x432 with 3 Axes>"
            ]
          },
          "metadata": {
            "tags": []
          }
        }
      ]
    },
    {
      "metadata": {
        "id": "-YKP9w9kDSFN",
        "colab_type": "code",
        "colab": {
          "base_uri": "https://localhost:8080/",
          "height": 454
        },
        "outputId": "9c8ae628-e82b-442c-b1e3-0d4cf883a440"
      },
      "cell_type": "code",
      "source": [
        "sns.jointplot(x='Maximum Capacity', y='Public Health Hazard Violation Rate', data=violations, kind='kde')"
      ],
      "execution_count": 8,
      "outputs": [
        {
          "output_type": "execute_result",
          "data": {
            "text/plain": [
              "<seaborn.axisgrid.JointGrid at 0x7f782d837490>"
            ]
          },
          "metadata": {
            "tags": []
          },
          "execution_count": 8
        },
        {
          "output_type": "display_data",
          "data": {
            "image/png": "[encoded data removed]",
            "text/plain": [
              "<Figure size 432x432 with 3 Axes>"
            ]
          },
          "metadata": {
            "tags": []
          }
        }
      ]
    },
    {
      "metadata": {
        "id": "UbGSRev3DSDG",
        "colab_type": "code",
        "colab": {
          "base_uri": "https://localhost:8080/",
          "height": 454
        },
        "outputId": "6a3ac636-bde6-4cec-f4eb-192541d20b7f"
      },
      "cell_type": "code",
      "source": [
        "sns.jointplot(x='Total Educational Workers', y='Critical Violation Rate', data=violations, kind='kde')"
      ],
      "execution_count": 10,
      "outputs": [
        {
          "output_type": "execute_result",
          "data": {
            "text/plain": [
              "<seaborn.axisgrid.JointGrid at 0x7f782db9e690>"
            ]
          },
          "metadata": {
            "tags": []
          },
          "execution_count": 10
        },
        {
          "output_type": "display_data",
          "data": {
            "image/png": "[encoded data removed]",
            "text/plain": [
              "<Figure size 432x432 with 3 Axes>"
            ]
          },
          "metadata": {
            "tags": []
          }
        }
      ]
    },
    {
      "metadata": {
        "id": "v61UiDVtD5GG",
        "colab_type": "code",
        "colab": {
          "base_uri": "https://localhost:8080/",
          "height": 454
        },
        "outputId": "9b1f8edd-5b8e-414a-e969-67d223f1217e"
      },
      "cell_type": "code",
      "source": [
        "sns.jointplot(x='Total Educational Workers', y='Public Health Hazard Violation Rate', data=violations, kind='kde')"
      ],
      "execution_count": 11,
      "outputs": [
        {
          "output_type": "execute_result",
          "data": {
            "text/plain": [
              "<seaborn.axisgrid.JointGrid at 0x7f782d5c6550>"
            ]
          },
          "metadata": {
            "tags": []
          },
          "execution_count": 11
        },
        {
          "output_type": "display_data",
          "data": {
            "image/png": "[encoded data removed]",
            "text/plain": [
              "<Figure size 432x432 with 3 Axes>"
            ]
          },
          "metadata": {
            "tags": []
          }
        }
      ]
    },
    {
      "metadata": {
        "id": "fuJYTWhBEOe-",
        "colab_type": "code",
        "colab": {
          "base_uri": "https://localhost:8080/",
          "height": 454
        },
        "outputId": "93ed0ab2-f0e8-4234-a8bd-b2444287abc2"
      },
      "cell_type": "code",
      "source": [
        "sns.jointplot(x='Total Educational Workers',y='Violation Rate Percent', data=violations, kind='kde')"
      ],
      "execution_count": 13,
      "outputs": [
        {
          "output_type": "execute_result",
          "data": {
            "text/plain": [
              "<seaborn.axisgrid.JointGrid at 0x7f782d41ea90>"
            ]
          },
          "metadata": {
            "tags": []
          },
          "execution_count": 13
        },
        {
          "output_type": "display_data",
          "data": {
            "image/png": "[encoded data removed]",
            "text/plain": [
              "<Figure size 432x432 with 3 Axes>"
            ]
          },
          "metadata": {
            "tags": []
          }
        }
      ]
    },
    {
      "metadata": {
        "id": "C6ZeoCVSJZCG",
        "colab_type": "text"
      },
      "cell_type": "markdown",
      "source": [
        "## 3.3 correlation map"
      ]
    },
    {
      "metadata": {
        "id": "z_JuSS5iJcmw",
        "colab_type": "code",
        "colab": {
          "base_uri": "https://localhost:8080/",
          "height": 720
        },
        "outputId": "c66eb63b-a60d-4f84-9c96-873147b80e2f"
      },
      "cell_type": "code",
      "source": [
        "corr =violations[[\"Violation Rate Percent\",\"Maximum Capacity\",\"Total Educational Workers\",\"Public Health Hazard Violation Rate\",\"Critical Violation Rate\"]].corr()\n",
        "\n",
        "# Generate a mask for the upper triangle\n",
        "mask = np.zeros_like(corr, dtype=np.bool)\n",
        "mask[np.triu_indices_from(mask)] = True\n",
        "\n",
        "# Set up the matplotlib figure\n",
        "f, ax = plt.subplots(figsize=(11, 11))\n",
        "\n",
        "# Generate a custom diverging colormap\n",
        "cmap = sns.diverging_palette(220, 10, as_cmap=True)\n",
        "\n",
        "# Draw the heatmap with the mask and correct aspect ratio\n",
        "sns.heatmap(corr, mask=mask, cmap=cmap, vmax=.3, center=0,\n",
        "            square=True, linewidths=.5, cbar_kws={\"shrink\": .5})\n",
        "\n",
        "plt.title(\"correlation map\")"
      ],
      "execution_count": 54,
      "outputs": [
        {
          "output_type": "execute_result",
          "data": {
            "text/plain": [
              "Text(0.5,1,'correlation map')"
            ]
          },
          "metadata": {
            "tags": []
          },
          "execution_count": 54
        },
        {
          "output_type": "display_data",
          "data": {
            "image/png": "[encoded data removed]",
            "text/plain": [
              "<Figure size 792x792 with 2 Axes>"
            ]
          },
          "metadata": {
            "tags": []
          }
        }
      ]
    },
    {
      "metadata": {
        "id": "ZROIJRGyByer",
        "colab_type": "text"
      },
      "cell_type": "markdown",
      "source": [
        "# 4. standardize"
      ]
    },
    {
      "metadata": {
        "id": "4oQQHEG4sEU5",
        "colab_type": "code",
        "colab": {
          "base_uri": "https://localhost:8080/",
          "height": 107
        },
        "outputId": "2d594ae5-b407-420a-b9d5-6e454117c20e"
      },
      "cell_type": "code",
      "source": [
        "StandardScaler().fit_transform(violations.loc[:,['Maximum Capacity','Violation Rate Percent','Total Educational Workers','Public Health Hazard Violation Rate','Critical Violation Rate']])\n",
        "standardized=violations.loc[:,['Maximum Capacity','Violation Rate Percent','Total Educational Workers','Public Health Hazard Violation Rate','Critical Violation Rate']]"
      ],
      "execution_count": 15,
      "outputs": [
        {
          "output_type": "stream",
          "text": [
            "/usr/local/lib/python2.7/dist-packages/sklearn/preprocessing/data.py:645: DataConversionWarning: Data with input dtype int64, float64 were all converted to float64 by StandardScaler.\n",
            "  return self.partial_fit(X, y)\n",
            "/usr/local/lib/python2.7/dist-packages/sklearn/base.py:464: DataConversionWarning: Data with input dtype int64, float64 were all converted to float64 by StandardScaler.\n",
            "  return self.fit(X, **fit_params).transform(X)\n"
          ],
          "name": "stderr"
        }
      ]
    },
    {
      "metadata": {
        "id": "BTDNiKXegqjz",
        "colab_type": "code",
        "colab": {}
      },
      "cell_type": "code",
      "source": [
        "X = standardized.loc[:,['Maximum Capacity','Violation Rate Percent','Total Educational Workers','Public Health Hazard Violation Rate','Critical Violation Rate']]\n",
        "y =violations.loc[:,['Critical Violation']]"
      ],
      "execution_count": 0,
      "outputs": []
    },
    {
      "metadata": {
        "id": "du1pLqDAuW3f",
        "colab_type": "code",
        "colab": {}
      },
      "cell_type": "code",
      "source": [
        "X_train, X_test, y_train, y_test = train_test_split(X, y, random_state=3)"
      ],
      "execution_count": 0,
      "outputs": []
    },
    {
      "metadata": {
        "id": "fXnx5BmWJE3u",
        "colab_type": "text"
      },
      "cell_type": "markdown",
      "source": [
        "# 5. models"
      ]
    },
    {
      "metadata": {
        "id": "q_2CBs34glfH",
        "colab_type": "text"
      },
      "cell_type": "markdown",
      "source": [
        "## 5.1 random forest"
      ]
    },
    {
      "metadata": {
        "id": "OYJcd1P9gkIf",
        "colab_type": "code",
        "colab": {
          "base_uri": "https://localhost:8080/",
          "height": 229
        },
        "outputId": "298dd09b-65c2-41d9-8bfb-3edc30f8e071"
      },
      "cell_type": "code",
      "source": [
        "func=rfc()\n",
        "func.fit(X_train, y_train)"
      ],
      "execution_count": 25,
      "outputs": [
        {
          "output_type": "stream",
          "text": [
            "/usr/local/lib/python2.7/dist-packages/sklearn/ensemble/forest.py:246: FutureWarning: The default value of n_estimators will change from 10 in version 0.20 to 100 in 0.22.\n",
            "  \"10 in version 0.20 to 100 in 0.22.\", FutureWarning)\n",
            "/usr/local/lib/python2.7/dist-packages/ipykernel_launcher.py:2: DataConversionWarning: A column-vector y was passed when a 1d array was expected. Please change the shape of y to (n_samples,), for example using ravel().\n",
            "  \n"
          ],
          "name": "stderr"
        },
        {
          "output_type": "execute_result",
          "data": {
            "text/plain": [
              "RandomForestClassifier(bootstrap=True, class_weight=None, criterion='gini',\n",
              "            max_depth=None, max_features='auto', max_leaf_nodes=None,\n",
              "            min_impurity_decrease=0.0, min_impurity_split=None,\n",
              "            min_samples_leaf=1, min_samples_split=2,\n",
              "            min_weight_fraction_leaf=0.0, n_estimators=10, n_jobs=None,\n",
              "            oob_score=False, random_state=None, verbose=0,\n",
              "            warm_start=False)"
            ]
          },
          "metadata": {
            "tags": []
          },
          "execution_count": 25
        }
      ]
    },
    {
      "metadata": {
        "id": "eBXlOmd4gw0C",
        "colab_type": "code",
        "colab": {
          "base_uri": "https://localhost:8080/",
          "height": 52
        },
        "outputId": "388a1fc1-3e43-4a2e-9e14-86b62f10f65d"
      },
      "cell_type": "code",
      "source": [
        "print('Accuracy of random forest on training set: {:.2f}'\n",
        "     .format(func.score(X_train, y_train)))\n",
        "print('Accuracy of random forest on test set: {:.2f}'\n",
        "     .format(func.score(X_test, y_test)))"
      ],
      "execution_count": 26,
      "outputs": [
        {
          "output_type": "stream",
          "text": [
            "Accuracy of random forest on training set: 0.73\n",
            "Accuracy of random forest on test set: 0.71\n"
          ],
          "name": "stdout"
        }
      ]
    },
    {
      "metadata": {
        "id": "xfmlqowDFY6_",
        "colab_type": "code",
        "colab": {
          "base_uri": "https://localhost:8080/",
          "height": 174
        },
        "outputId": "e2dd93fd-7b4c-472d-d022-97467538a3dc"
      },
      "cell_type": "code",
      "source": [
        "predictions=func.predict(X_test)\n",
        "print(classification_report(y_test,predictions))"
      ],
      "execution_count": 27,
      "outputs": [
        {
          "output_type": "stream",
          "text": [
            "              precision    recall  f1-score   support\n",
            "\n",
            "           0       0.73      0.94      0.82      9249\n",
            "           1       0.41      0.11      0.17      3540\n",
            "\n",
            "   micro avg       0.71      0.71      0.71     12789\n",
            "   macro avg       0.57      0.52      0.50     12789\n",
            "weighted avg       0.65      0.71      0.64     12789\n",
            "\n"
          ],
          "name": "stdout"
        }
      ]
    },
    {
      "metadata": {
        "id": "T30trxyPgzHT",
        "colab_type": "code",
        "colab": {}
      },
      "cell_type": "code",
      "source": [
        "features= X\n",
        "# Saving feature names for later use\n",
        "feature_list = list(features.columns)\n",
        "# Convert to numpy array\n",
        "features = np.array(features)"
      ],
      "execution_count": 0,
      "outputs": []
    },
    {
      "metadata": {
        "id": "g3f_9mFhg1oW",
        "colab_type": "code",
        "colab": {}
      },
      "cell_type": "code",
      "source": [
        "# Get numerical feature importances\n",
        "importances = list(func.feature_importances_)\n",
        "# List of tuples with variable and importance\n",
        "feature_importances = [(feature, round(importance, 2)) for feature, importance in zip(feature_list, importances)]\n",
        "# Sort the feature importances by most important first\n",
        "feature_importances = sorted(feature_importances, key = lambda x: x[1], reverse = True)"
      ],
      "execution_count": 0,
      "outputs": []
    },
    {
      "metadata": {
        "id": "X4Hhi5M_g4P6",
        "colab_type": "code",
        "colab": {
          "base_uri": "https://localhost:8080/",
          "height": 104
        },
        "outputId": "89344ce1-f23e-46c2-8133-9ffae20f171b"
      },
      "cell_type": "code",
      "source": [
        "feature_importances"
      ],
      "execution_count": 30,
      "outputs": [
        {
          "output_type": "execute_result",
          "data": {
            "text/plain": [
              "[('Maximum Capacity', 0.35),\n",
              " ('Total Educational Workers', 0.22),\n",
              " ('Critical Violation Rate', 0.18),\n",
              " ('Violation Rate Percent', 0.15),\n",
              " ('Public Health Hazard Violation Rate', 0.11)]"
            ]
          },
          "metadata": {
            "tags": []
          },
          "execution_count": 30
        }
      ]
    },
    {
      "metadata": {
        "id": "pm4ZuNtQiJ4U",
        "colab_type": "text"
      },
      "cell_type": "markdown",
      "source": [
        "## 5.2 decision tree"
      ]
    },
    {
      "metadata": {
        "id": "cKNPVFfaiL3I",
        "colab_type": "code",
        "colab": {
          "base_uri": "https://localhost:8080/",
          "height": 72
        },
        "outputId": "0d5fd9a1-3ba4-48ca-fd34-84f5672099e2"
      },
      "cell_type": "code",
      "source": [
        "scaler = MinMaxScaler()\n",
        "X_train = scaler.fit_transform(X_train)\n",
        "X_test = scaler.transform(X_test)"
      ],
      "execution_count": 31,
      "outputs": [
        {
          "output_type": "stream",
          "text": [
            "/usr/local/lib/python2.7/dist-packages/sklearn/preprocessing/data.py:334: DataConversionWarning: Data with input dtype int64, float64 were all converted to float64 by MinMaxScaler.\n",
            "  return self.partial_fit(X, y)\n"
          ],
          "name": "stderr"
        }
      ]
    },
    {
      "metadata": {
        "id": "381doO0QiM1R",
        "colab_type": "code",
        "colab": {
          "base_uri": "https://localhost:8080/",
          "height": 52
        },
        "outputId": "282887cc-3513-4ffd-d420-1f918a881c85"
      },
      "cell_type": "code",
      "source": [
        "dtc = DecisionTreeClassifier().fit(X_train, y_train)\n",
        "print('Accuracy of Decision Tree classifier on training set: {:.2f}'\n",
        "     .format(dtc.score(X_train, y_train)))\n",
        "print('Accuracy of Decision Tree classifier on test set: {:.2f}'\n",
        "     .format(dtc.score(X_test, y_test)))"
      ],
      "execution_count": 32,
      "outputs": [
        {
          "output_type": "stream",
          "text": [
            "Accuracy of Decision Tree classifier on training set: 0.73\n",
            "Accuracy of Decision Tree classifier on test set: 0.71\n"
          ],
          "name": "stdout"
        }
      ]
    },
    {
      "metadata": {
        "id": "LGKAcq7FFR-Y",
        "colab_type": "code",
        "colab": {
          "base_uri": "https://localhost:8080/",
          "height": 174
        },
        "outputId": "d4cc665d-95a1-499d-de6d-cc48c31596d3"
      },
      "cell_type": "code",
      "source": [
        "predictions=dtc.predict(X_test)\n",
        "print(classification_report(y_test,predictions))"
      ],
      "execution_count": 33,
      "outputs": [
        {
          "output_type": "stream",
          "text": [
            "              precision    recall  f1-score   support\n",
            "\n",
            "           0       0.73      0.96      0.83      9249\n",
            "           1       0.42      0.08      0.14      3540\n",
            "\n",
            "   micro avg       0.71      0.71      0.71     12789\n",
            "   macro avg       0.58      0.52      0.48     12789\n",
            "weighted avg       0.65      0.71      0.64     12789\n",
            "\n"
          ],
          "name": "stdout"
        }
      ]
    },
    {
      "metadata": {
        "id": "fCG1-6VRjLLJ",
        "colab_type": "text"
      },
      "cell_type": "markdown",
      "source": [
        "## 5.3 svm"
      ]
    },
    {
      "metadata": {
        "id": "PIVHohCejNf6",
        "colab_type": "code",
        "colab": {
          "base_uri": "https://localhost:8080/",
          "height": 142
        },
        "outputId": "a9ff1bfb-dca9-4be1-9fab-b68ea387bd22"
      },
      "cell_type": "code",
      "source": [
        "clf = SVC(kernel='rbf')\n",
        "clf.fit(X_train, y_train)"
      ],
      "execution_count": 22,
      "outputs": [
        {
          "output_type": "stream",
          "text": [
            "/usr/local/lib/python2.7/dist-packages/sklearn/svm/base.py:196: FutureWarning: The default value of gamma will change from 'auto' to 'scale' in version 0.22 to account better for unscaled features. Set gamma explicitly to 'auto' or 'scale' to avoid this warning.\n",
            "  \"avoid this warning.\", FutureWarning)\n"
          ],
          "name": "stderr"
        },
        {
          "output_type": "execute_result",
          "data": {
            "text/plain": [
              "SVC(C=1.0, cache_size=200, class_weight=None, coef0=0.0,\n",
              "  decision_function_shape='ovr', degree=3, gamma='auto_deprecated',\n",
              "  kernel='rbf', max_iter=-1, probability=False, random_state=None,\n",
              "  shrinking=True, tol=0.001, verbose=False)"
            ]
          },
          "metadata": {
            "tags": []
          },
          "execution_count": 22
        }
      ]
    },
    {
      "metadata": {
        "id": "q4QoxVoAuDWN",
        "colab_type": "code",
        "colab": {
          "base_uri": "https://localhost:8080/",
          "height": 52
        },
        "outputId": "bbc4e767-1b9c-4c7f-a777-0faebb5eab5d"
      },
      "cell_type": "code",
      "source": [
        "print('Accuracy of svm on training set: {:.2f}'\n",
        "     .format(clf.score(X_train, y_train)))\n",
        "print('Accuracy of svm on test set: {:.2f}'\n",
        "     .format(clf.score(X_test, y_test)))"
      ],
      "execution_count": 23,
      "outputs": [
        {
          "output_type": "stream",
          "text": [
            "Accuracy of svm on training set: 0.73\n",
            "Accuracy of svm on test set: 0.72\n"
          ],
          "name": "stdout"
        }
      ]
    },
    {
      "metadata": {
        "id": "8rz_M02xFLmm",
        "colab_type": "code",
        "colab": {
          "base_uri": "https://localhost:8080/",
          "height": 174
        },
        "outputId": "b884d9d6-d824-46e7-b8d0-660570d02223"
      },
      "cell_type": "code",
      "source": [
        "predictions=clf.predict(X_test)\n",
        "print(classification_report(y_test,predictions))"
      ],
      "execution_count": 24,
      "outputs": [
        {
          "output_type": "stream",
          "text": [
            "              precision    recall  f1-score   support\n",
            "\n",
            "           0       0.73      0.96      0.83      9249\n",
            "           1       0.44      0.08      0.13      3540\n",
            "\n",
            "   micro avg       0.72      0.72      0.72     12789\n",
            "   macro avg       0.58      0.52      0.48     12789\n",
            "weighted avg       0.65      0.72      0.64     12789\n",
            "\n"
          ],
          "name": "stdout"
        }
      ]
    },
    {
      "metadata": {
        "id": "1fhKeo-ej413",
        "colab_type": "text"
      },
      "cell_type": "markdown",
      "source": [
        "## 5.4 logistic regression"
      ]
    },
    {
      "metadata": {
        "id": "-wGs9I4ej7Hh",
        "colab_type": "code",
        "colab": {
          "base_uri": "https://localhost:8080/",
          "height": 142
        },
        "outputId": "29f9cce4-fd62-417c-afe9-8231869c1044"
      },
      "cell_type": "code",
      "source": [
        "logmodel=LogisticRegression()\n",
        "logmodel.fit(X_train,y_train)\n",
        "print('Accuracy of Logistic regression classifier on training set: {:.2f}'\n",
        "     .format(logmodel.score(X_train, y_train)))\n",
        "print('Accuracy of Logistic regression classifier on test set: {:.2f}'\n",
        "     .format(logmodel.score(X_test, y_test)))"
      ],
      "execution_count": 18,
      "outputs": [
        {
          "output_type": "stream",
          "text": [
            "/usr/local/lib/python2.7/dist-packages/sklearn/linear_model/logistic.py:433: FutureWarning: Default solver will be changed to 'lbfgs' in 0.22. Specify a solver to silence this warning.\n",
            "  FutureWarning)\n",
            "/usr/local/lib/python2.7/dist-packages/sklearn/utils/validation.py:761: DataConversionWarning: A column-vector y was passed when a 1d array was expected. Please change the shape of y to (n_samples, ), for example using ravel().\n",
            "  y = column_or_1d(y, warn=True)\n"
          ],
          "name": "stderr"
        },
        {
          "output_type": "stream",
          "text": [
            "Accuracy of Logistic regression classifier on training set: 0.72\n",
            "Accuracy of Logistic regression classifier on test set: 0.72\n"
          ],
          "name": "stdout"
        }
      ]
    },
    {
      "metadata": {
        "id": "n9Zd6quQnGms",
        "colab_type": "code",
        "colab": {}
      },
      "cell_type": "code",
      "source": [
        "from sklearn.metrics import classification_report"
      ],
      "execution_count": 0,
      "outputs": []
    },
    {
      "metadata": {
        "id": "Lg99n8SFE-mp",
        "colab_type": "code",
        "colab": {
          "base_uri": "https://localhost:8080/",
          "height": 174
        },
        "outputId": "28e1e240-973b-4ce2-e2d1-0ed0222bccb4"
      },
      "cell_type": "code",
      "source": [
        "predictions=logmodel.predict(X_test)\n",
        "print(classification_report(y_test,predictions))"
      ],
      "execution_count": 21,
      "outputs": [
        {
          "output_type": "stream",
          "text": [
            "              precision    recall  f1-score   support\n",
            "\n",
            "           0       0.72      1.00      0.84      9249\n",
            "           1       0.50      0.01      0.01      3540\n",
            "\n",
            "   micro avg       0.72      0.72      0.72     12789\n",
            "   macro avg       0.61      0.50      0.43     12789\n",
            "weighted avg       0.66      0.72      0.61     12789\n",
            "\n"
          ],
          "name": "stdout"
        }
      ]
    },
    {
      "metadata": {
        "id": "JY9_v163K65g",
        "colab_type": "text"
      },
      "cell_type": "markdown",
      "source": [
        "## 5.5 neural network"
      ]
    },
    {
      "metadata": {
        "id": "mqcIzx3-FBMw",
        "colab_type": "code",
        "colab": {}
      },
      "cell_type": "code",
      "source": [
        "dataset = violations"
      ],
      "execution_count": 0,
      "outputs": []
    },
    {
      "metadata": {
        "id": "Yhl7jSISKOcy",
        "colab_type": "code",
        "colab": {
          "base_uri": "https://localhost:8080/",
          "height": 142
        },
        "outputId": "c8d15599-7775-46b2-ded1-af6d0c2050d9"
      },
      "cell_type": "code",
      "source": [
        "onehotencoder = OneHotEncoder(categorical_features = [1])\n",
        "X = onehotencoder.fit_transform(X).toarray()\n",
        "X = X[:, :]"
      ],
      "execution_count": 58,
      "outputs": [
        {
          "output_type": "stream",
          "text": [
            "/usr/local/lib/python2.7/dist-packages/sklearn/preprocessing/_encoders.py:371: FutureWarning: The handling of integer data will change in version 0.22. Currently, the categories are determined based on the range [0, max(values)], while in the future they will be determined based on the unique values.\n",
            "If you want the future behaviour and silence this warning, you can specify \"categories='auto'\".\n",
            "In case you used a LabelEncoder before this OneHotEncoder to convert the categories to integers, then you can now use the OneHotEncoder directly.\n",
            "  warnings.warn(msg, FutureWarning)\n",
            "/usr/local/lib/python2.7/dist-packages/sklearn/preprocessing/_encoders.py:392: DeprecationWarning: The 'categorical_features' keyword is deprecated in version 0.20 and will be removed in 0.22. You can use the ColumnTransformer instead.\n",
            "  \"use the ColumnTransformer instead.\", DeprecationWarning)\n"
          ],
          "name": "stderr"
        }
      ]
    },
    {
      "metadata": {
        "id": "jTqjiWCyKPdw",
        "colab_type": "code",
        "colab": {}
      },
      "cell_type": "code",
      "source": [
        "sc = StandardScaler()\n",
        "X_train = sc.fit_transform(X_train)\n",
        "X_test = sc.transform(X_test)"
      ],
      "execution_count": 0,
      "outputs": []
    },
    {
      "metadata": {
        "id": "3rNIbU02Ka3R",
        "colab_type": "code",
        "colab": {}
      },
      "cell_type": "code",
      "source": [
        "classifier = Sequential()"
      ],
      "execution_count": 0,
      "outputs": []
    },
    {
      "metadata": {
        "id": "gGWjDqYCKc9C",
        "colab_type": "code",
        "colab": {}
      },
      "cell_type": "code",
      "source": [
        "# Adding the input layer and the first hidden layer\n",
        "classifier.add(Dense(activation=\"relu\", input_dim=5, units=5, kernel_initializer=\"uniform\"))\n",
        "# Adding the second hidden layer\n",
        "classifier.add(Dense(activation=\"relu\", units=3, kernel_initializer=\"uniform\"))\n",
        "# Adding the output layer\n",
        "classifier.add(Dense(activation=\"sigmoid\", units=1, kernel_initializer=\"uniform\"))"
      ],
      "execution_count": 0,
      "outputs": []
    },
    {
      "metadata": {
        "id": "vGzJev-gKfCP",
        "colab_type": "code",
        "colab": {}
      },
      "cell_type": "code",
      "source": [
        "# Compiling Neural Network\n",
        "classifier.compile(optimizer = 'adam', loss = 'binary_crossentropy', metrics = ['accuracy'])"
      ],
      "execution_count": 0,
      "outputs": []
    },
    {
      "metadata": {
        "id": "8i5WztOyNx7N",
        "colab_type": "code",
        "colab": {}
      },
      "cell_type": "code",
      "source": [
        "X_val = X_train[:3000]\n",
        "partial_X_train = X_train[3000:]\n",
        "y_val = y_train[:3000]\n",
        "partial_y_train = y_train[3000:]"
      ],
      "execution_count": 0,
      "outputs": []
    },
    {
      "metadata": {
        "id": "ivzD7CGKOa0w",
        "colab_type": "code",
        "colab": {
          "base_uri": "https://localhost:8080/",
          "height": 734
        },
        "outputId": "08245e6f-6034-44f0-f83c-b57f8720fca0"
      },
      "cell_type": "code",
      "source": [
        "classifier.compile(optimizer='rmsprop',\n",
        "loss='binary_crossentropy',\n",
        "metrics=['acc'])\n",
        "history = classifier.fit(partial_X_train,\n",
        "partial_y_train,\n",
        "epochs=20,\n",
        "batch_size=512,\n",
        "validation_data=(X_val, y_val))"
      ],
      "execution_count": 109,
      "outputs": [
        {
          "output_type": "stream",
          "text": [
            "Train on 35367 samples, validate on 3000 samples\n",
            "Epoch 1/20\n",
            "35367/35367 [==============================] - 0s 11us/step - loss: 0.6825 - acc: 0.7180 - val_loss: 0.6720 - val_acc: 0.7260\n",
            "Epoch 2/20\n",
            "35367/35367 [==============================] - 0s 3us/step - loss: 0.6612 - acc: 0.7231 - val_loss: 0.6483 - val_acc: 0.7260\n",
            "Epoch 3/20\n",
            "35367/35367 [==============================] - 0s 3us/step - loss: 0.6358 - acc: 0.7231 - val_loss: 0.6220 - val_acc: 0.7260\n",
            "Epoch 4/20\n",
            "35367/35367 [==============================] - 0s 3us/step - loss: 0.6106 - acc: 0.7231 - val_loss: 0.5990 - val_acc: 0.7260\n",
            "Epoch 5/20\n",
            "35367/35367 [==============================] - 0s 3us/step - loss: 0.5912 - acc: 0.7231 - val_loss: 0.5836 - val_acc: 0.7260\n",
            "Epoch 6/20\n",
            "35367/35367 [==============================] - 0s 3us/step - loss: 0.5816 - acc: 0.7231 - val_loss: 0.5778 - val_acc: 0.7260\n",
            "Epoch 7/20\n",
            "35367/35367 [==============================] - 0s 3us/step - loss: 0.5787 - acc: 0.7231 - val_loss: 0.5758 - val_acc: 0.7260\n",
            "Epoch 8/20\n",
            "35367/35367 [==============================] - 0s 3us/step - loss: 0.5775 - acc: 0.7231 - val_loss: 0.5745 - val_acc: 0.7260\n",
            "Epoch 9/20\n",
            "35367/35367 [==============================] - 0s 3us/step - loss: 0.5767 - acc: 0.7231 - val_loss: 0.5738 - val_acc: 0.7260\n",
            "Epoch 10/20\n",
            "35367/35367 [==============================] - 0s 3us/step - loss: 0.5763 - acc: 0.7231 - val_loss: 0.5733 - val_acc: 0.7260\n",
            "Epoch 11/20\n",
            "35367/35367 [==============================] - 0s 3us/step - loss: 0.5758 - acc: 0.7231 - val_loss: 0.5727 - val_acc: 0.7260\n",
            "Epoch 12/20\n",
            "35367/35367 [==============================] - 0s 3us/step - loss: 0.5755 - acc: 0.7231 - val_loss: 0.5724 - val_acc: 0.7260\n",
            "Epoch 13/20\n",
            "35367/35367 [==============================] - 0s 3us/step - loss: 0.5752 - acc: 0.7231 - val_loss: 0.5720 - val_acc: 0.7260\n",
            "Epoch 14/20\n",
            "35367/35367 [==============================] - 0s 3us/step - loss: 0.5749 - acc: 0.7231 - val_loss: 0.5718 - val_acc: 0.7260\n",
            "Epoch 15/20\n",
            "35367/35367 [==============================] - 0s 3us/step - loss: 0.5748 - acc: 0.7231 - val_loss: 0.5717 - val_acc: 0.7260\n",
            "Epoch 16/20\n",
            "35367/35367 [==============================] - 0s 3us/step - loss: 0.5746 - acc: 0.7231 - val_loss: 0.5714 - val_acc: 0.7260\n",
            "Epoch 17/20\n",
            "35367/35367 [==============================] - 0s 3us/step - loss: 0.5745 - acc: 0.7231 - val_loss: 0.5713 - val_acc: 0.7260\n",
            "Epoch 18/20\n",
            "35367/35367 [==============================] - 0s 3us/step - loss: 0.5743 - acc: 0.7231 - val_loss: 0.5713 - val_acc: 0.7260\n",
            "Epoch 19/20\n",
            "35367/35367 [==============================] - 0s 3us/step - loss: 0.5743 - acc: 0.7231 - val_loss: 0.5711 - val_acc: 0.7260\n",
            "Epoch 20/20\n",
            "35367/35367 [==============================] - 0s 3us/step - loss: 0.5742 - acc: 0.7231 - val_loss: 0.5712 - val_acc: 0.7260\n"
          ],
          "name": "stdout"
        }
      ]
    },
    {
      "metadata": {
        "id": "C9O8mgU_PIv_",
        "colab_type": "code",
        "colab": {
          "base_uri": "https://localhost:8080/",
          "height": 21034
        },
        "outputId": "e8eea665-82a9-4e7b-fd3f-6e54b6816c75"
      },
      "cell_type": "code",
      "source": [
        "history = classifier.fit(partial_X_train,\n",
        "partial_y_train,\n",
        "epochs=600,\n",
        "batch_size=512,\n",
        "validation_data=(X_val, y_val))"
      ],
      "execution_count": 115,
      "outputs": [
        {
          "output_type": "stream",
          "text": [
            "Train on 35367 samples, validate on 3000 samples\n",
            "Epoch 1/600\n",
            "35367/35367 [==============================] - 0s 3us/step - loss: 0.5735 - acc: 0.7231 - val_loss: 0.5705 - val_acc: 0.7260\n",
            "Epoch 2/600\n",
            "35367/35367 [==============================] - 0s 3us/step - loss: 0.5735 - acc: 0.7231 - val_loss: 0.5706 - val_acc: 0.7260\n",
            "Epoch 3/600\n",
            "35367/35367 [==============================] - 0s 3us/step - loss: 0.5734 - acc: 0.7231 - val_loss: 0.5706 - val_acc: 0.7260\n",
            "Epoch 4/600\n",
            "35367/35367 [==============================] - 0s 3us/step - loss: 0.5734 - acc: 0.7231 - val_loss: 0.5705 - val_acc: 0.7260\n",
            "Epoch 5/600\n",
            "35367/35367 [==============================] - 0s 3us/step - loss: 0.5734 - acc: 0.7231 - val_loss: 0.5705 - val_acc: 0.7260\n",
            "Epoch 6/600\n",
            "35367/35367 [==============================] - 0s 3us/step - loss: 0.5734 - acc: 0.7231 - val_loss: 0.5705 - val_acc: 0.7260\n",
            "Epoch 7/600\n",
            "35367/35367 [==============================] - 0s 3us/step - loss: 0.5734 - acc: 0.7231 - val_loss: 0.5706 - val_acc: 0.7260\n",
            "Epoch 8/600\n",
            "35367/35367 [==============================] - 0s 3us/step - loss: 0.5734 - acc: 0.7231 - val_loss: 0.5705 - val_acc: 0.7260\n",
            "Epoch 9/600\n",
            "35367/35367 [==============================] - 0s 3us/step - loss: 0.5733 - acc: 0.7231 - val_loss: 0.5705 - val_acc: 0.7260\n",
            "Epoch 10/600\n",
            "35367/35367 [==============================] - 0s 3us/step - loss: 0.5733 - acc: 0.7231 - val_loss: 0.5706 - val_acc: 0.7260\n",
            "Epoch 11/600\n",
            "35367/35367 [==============================] - 0s 3us/step - loss: 0.5733 - acc: 0.7231 - val_loss: 0.5706 - val_acc: 0.7260\n",
            "Epoch 12/600\n",
            "35367/35367 [==============================] - 0s 3us/step - loss: 0.5733 - acc: 0.7231 - val_loss: 0.5705 - val_acc: 0.7260\n",
            "Epoch 13/600\n",
            "35367/35367 [==============================] - 0s 3us/step - loss: 0.5733 - acc: 0.7231 - val_loss: 0.5705 - val_acc: 0.7260\n",
            "Epoch 14/600\n",
            "35367/35367 [==============================] - 0s 3us/step - loss: 0.5733 - acc: 0.7231 - val_loss: 0.5706 - val_acc: 0.7260\n",
            "Epoch 15/600\n",
            "35367/35367 [==============================] - 0s 3us/step - loss: 0.5733 - acc: 0.7231 - val_loss: 0.5706 - val_acc: 0.7260\n",
            "Epoch 16/600\n",
            "35367/35367 [==============================] - 0s 3us/step - loss: 0.5732 - acc: 0.7231 - val_loss: 0.5705 - val_acc: 0.7260\n",
            "Epoch 17/600\n",
            "35367/35367 [==============================] - 0s 3us/step - loss: 0.5732 - acc: 0.7231 - val_loss: 0.5705 - val_acc: 0.7260\n",
            "Epoch 18/600\n",
            "35367/35367 [==============================] - 0s 3us/step - loss: 0.5732 - acc: 0.7231 - val_loss: 0.5706 - val_acc: 0.7260\n",
            "Epoch 19/600\n",
            "35367/35367 [==============================] - 0s 3us/step - loss: 0.5732 - acc: 0.7231 - val_loss: 0.5707 - val_acc: 0.7260\n",
            "Epoch 20/600\n",
            "35367/35367 [==============================] - 0s 3us/step - loss: 0.5732 - acc: 0.7231 - val_loss: 0.5706 - val_acc: 0.7260\n",
            "Epoch 21/600\n",
            "35367/35367 [==============================] - 0s 3us/step - loss: 0.5732 - acc: 0.7231 - val_loss: 0.5705 - val_acc: 0.7260\n",
            "Epoch 22/600\n",
            "35367/35367 [==============================] - 0s 3us/step - loss: 0.5732 - acc: 0.7231 - val_loss: 0.5705 - val_acc: 0.7260\n",
            "Epoch 23/600\n",
            "35367/35367 [==============================] - 0s 3us/step - loss: 0.5732 - acc: 0.7231 - val_loss: 0.5705 - val_acc: 0.7260\n",
            "Epoch 24/600\n",
            "35367/35367 [==============================] - 0s 3us/step - loss: 0.5731 - acc: 0.7231 - val_loss: 0.5706 - val_acc: 0.7260\n",
            "Epoch 25/600\n",
            "35367/35367 [==============================] - 0s 3us/step - loss: 0.5731 - acc: 0.7231 - val_loss: 0.5705 - val_acc: 0.7260\n",
            "Epoch 26/600\n",
            "35367/35367 [==============================] - 0s 3us/step - loss: 0.5731 - acc: 0.7231 - val_loss: 0.5705 - val_acc: 0.7260\n",
            "Epoch 27/600\n",
            "35367/35367 [==============================] - 0s 3us/step - loss: 0.5731 - acc: 0.7231 - val_loss: 0.5705 - val_acc: 0.7260\n",
            "Epoch 28/600\n",
            "35367/35367 [==============================] - 0s 3us/step - loss: 0.5731 - acc: 0.7231 - val_loss: 0.5705 - val_acc: 0.7260\n",
            "Epoch 29/600\n",
            "35367/35367 [==============================] - 0s 3us/step - loss: 0.5731 - acc: 0.7231 - val_loss: 0.5705 - val_acc: 0.7260\n",
            "Epoch 30/600\n",
            "35367/35367 [==============================] - 0s 3us/step - loss: 0.5731 - acc: 0.7231 - val_loss: 0.5705 - val_acc: 0.7260\n",
            "Epoch 31/600\n",
            "35367/35367 [==============================] - 0s 3us/step - loss: 0.5731 - acc: 0.7231 - val_loss: 0.5705 - val_acc: 0.7260\n",
            "Epoch 32/600\n",
            "35367/35367 [==============================] - 0s 3us/step - loss: 0.5730 - acc: 0.7231 - val_loss: 0.5704 - val_acc: 0.7260\n",
            "Epoch 33/600\n",
            "35367/35367 [==============================] - 0s 3us/step - loss: 0.5730 - acc: 0.7231 - val_loss: 0.5704 - val_acc: 0.7260\n",
            "Epoch 34/600\n",
            "35367/35367 [==============================] - 0s 3us/step - loss: 0.5730 - acc: 0.7231 - val_loss: 0.5704 - val_acc: 0.7260\n",
            "Epoch 35/600\n",
            "35367/35367 [==============================] - 0s 3us/step - loss: 0.5730 - acc: 0.7231 - val_loss: 0.5703 - val_acc: 0.7260\n",
            "Epoch 36/600\n",
            "35367/35367 [==============================] - 0s 3us/step - loss: 0.5730 - acc: 0.7231 - val_loss: 0.5704 - val_acc: 0.7260\n",
            "Epoch 37/600\n",
            "35367/35367 [==============================] - 0s 3us/step - loss: 0.5729 - acc: 0.7231 - val_loss: 0.5705 - val_acc: 0.7260\n",
            "Epoch 38/600\n",
            "35367/35367 [==============================] - 0s 3us/step - loss: 0.5730 - acc: 0.7231 - val_loss: 0.5704 - val_acc: 0.7260\n",
            "Epoch 39/600\n",
            "35367/35367 [==============================] - 0s 3us/step - loss: 0.5729 - acc: 0.7231 - val_loss: 0.5703 - val_acc: 0.7260\n",
            "Epoch 40/600\n",
            "35367/35367 [==============================] - 0s 3us/step - loss: 0.5729 - acc: 0.7231 - val_loss: 0.5703 - val_acc: 0.7260\n",
            "Epoch 41/600\n",
            "35367/35367 [==============================] - 0s 3us/step - loss: 0.5729 - acc: 0.7231 - val_loss: 0.5703 - val_acc: 0.7260\n",
            "Epoch 42/600\n",
            "35367/35367 [==============================] - 0s 3us/step - loss: 0.5729 - acc: 0.7231 - val_loss: 0.5702 - val_acc: 0.7260\n",
            "Epoch 43/600\n",
            "35367/35367 [==============================] - 0s 3us/step - loss: 0.5729 - acc: 0.7231 - val_loss: 0.5703 - val_acc: 0.7260\n",
            "Epoch 44/600\n",
            "35367/35367 [==============================] - 0s 3us/step - loss: 0.5728 - acc: 0.7231 - val_loss: 0.5703 - val_acc: 0.7260\n",
            "Epoch 45/600\n",
            "35367/35367 [==============================] - 0s 3us/step - loss: 0.5728 - acc: 0.7231 - val_loss: 0.5703 - val_acc: 0.7260\n",
            "Epoch 46/600\n",
            "35367/35367 [==============================] - 0s 3us/step - loss: 0.5728 - acc: 0.7231 - val_loss: 0.5702 - val_acc: 0.7260\n",
            "Epoch 47/600\n",
            "35367/35367 [==============================] - 0s 3us/step - loss: 0.5728 - acc: 0.7231 - val_loss: 0.5701 - val_acc: 0.7260\n",
            "Epoch 48/600\n",
            "35367/35367 [==============================] - 0s 3us/step - loss: 0.5728 - acc: 0.7231 - val_loss: 0.5701 - val_acc: 0.7260\n",
            "Epoch 49/600\n",
            "35367/35367 [==============================] - 0s 3us/step - loss: 0.5728 - acc: 0.7231 - val_loss: 0.5701 - val_acc: 0.7260\n",
            "Epoch 50/600\n",
            "35367/35367 [==============================] - 0s 3us/step - loss: 0.5728 - acc: 0.7231 - val_loss: 0.5701 - val_acc: 0.7260\n",
            "Epoch 51/600\n",
            "35367/35367 [==============================] - 0s 3us/step - loss: 0.5728 - acc: 0.7231 - val_loss: 0.5702 - val_acc: 0.7260\n",
            "Epoch 52/600\n",
            "35367/35367 [==============================] - 0s 3us/step - loss: 0.5728 - acc: 0.7231 - val_loss: 0.5701 - val_acc: 0.7260\n",
            "Epoch 53/600\n",
            "35367/35367 [==============================] - 0s 3us/step - loss: 0.5728 - acc: 0.7231 - val_loss: 0.5701 - val_acc: 0.7260\n",
            "Epoch 54/600\n",
            "35367/35367 [==============================] - 0s 3us/step - loss: 0.5728 - acc: 0.7231 - val_loss: 0.5702 - val_acc: 0.7260\n",
            "Epoch 55/600\n",
            "35367/35367 [==============================] - 0s 3us/step - loss: 0.5727 - acc: 0.7231 - val_loss: 0.5701 - val_acc: 0.7260\n",
            "Epoch 56/600\n",
            "35367/35367 [==============================] - 0s 3us/step - loss: 0.5727 - acc: 0.7231 - val_loss: 0.5702 - val_acc: 0.7260\n",
            "Epoch 57/600\n",
            "35367/35367 [==============================] - 0s 3us/step - loss: 0.5727 - acc: 0.7231 - val_loss: 0.5703 - val_acc: 0.7260\n",
            "Epoch 58/600\n",
            "35367/35367 [==============================] - 0s 3us/step - loss: 0.5727 - acc: 0.7231 - val_loss: 0.5702 - val_acc: 0.7260\n",
            "Epoch 59/600\n",
            "35367/35367 [==============================] - 0s 3us/step - loss: 0.5727 - acc: 0.7231 - val_loss: 0.5702 - val_acc: 0.7260\n",
            "Epoch 60/600\n",
            "35367/35367 [==============================] - 0s 3us/step - loss: 0.5727 - acc: 0.7231 - val_loss: 0.5701 - val_acc: 0.7260\n",
            "Epoch 61/600\n",
            "35367/35367 [==============================] - 0s 3us/step - loss: 0.5727 - acc: 0.7231 - val_loss: 0.5701 - val_acc: 0.7260\n",
            "Epoch 62/600\n",
            "35367/35367 [==============================] - 0s 3us/step - loss: 0.5727 - acc: 0.7231 - val_loss: 0.5701 - val_acc: 0.7260\n",
            "Epoch 63/600\n",
            "35367/35367 [==============================] - 0s 3us/step - loss: 0.5727 - acc: 0.7231 - val_loss: 0.5701 - val_acc: 0.7260\n",
            "Epoch 64/600\n",
            "35367/35367 [==============================] - 0s 3us/step - loss: 0.5727 - acc: 0.7231 - val_loss: 0.5701 - val_acc: 0.7260\n",
            "Epoch 65/600\n",
            "35367/35367 [==============================] - 0s 3us/step - loss: 0.5727 - acc: 0.7231 - val_loss: 0.5702 - val_acc: 0.7260\n",
            "Epoch 66/600\n",
            "35367/35367 [==============================] - 0s 3us/step - loss: 0.5727 - acc: 0.7231 - val_loss: 0.5702 - val_acc: 0.7260\n",
            "Epoch 67/600\n",
            "35367/35367 [==============================] - 0s 3us/step - loss: 0.5726 - acc: 0.7231 - val_loss: 0.5702 - val_acc: 0.7260\n",
            "Epoch 68/600\n",
            "35367/35367 [==============================] - 0s 3us/step - loss: 0.5726 - acc: 0.7231 - val_loss: 0.5702 - val_acc: 0.7260\n",
            "Epoch 69/600\n",
            "35367/35367 [==============================] - 0s 3us/step - loss: 0.5726 - acc: 0.7231 - val_loss: 0.5702 - val_acc: 0.7260\n",
            "Epoch 70/600\n",
            "35367/35367 [==============================] - 0s 3us/step - loss: 0.5726 - acc: 0.7231 - val_loss: 0.5702 - val_acc: 0.7260\n",
            "Epoch 71/600\n",
            "35367/35367 [==============================] - 0s 3us/step - loss: 0.5726 - acc: 0.7231 - val_loss: 0.5701 - val_acc: 0.7260\n",
            "Epoch 72/600\n",
            "35367/35367 [==============================] - 0s 3us/step - loss: 0.5726 - acc: 0.7231 - val_loss: 0.5701 - val_acc: 0.7260\n",
            "Epoch 73/600\n",
            "35367/35367 [==============================] - 0s 3us/step - loss: 0.5726 - acc: 0.7231 - val_loss: 0.5702 - val_acc: 0.7260\n",
            "Epoch 74/600\n",
            "35367/35367 [==============================] - 0s 3us/step - loss: 0.5726 - acc: 0.7231 - val_loss: 0.5702 - val_acc: 0.7260\n",
            "Epoch 75/600\n",
            "35367/35367 [==============================] - 0s 3us/step - loss: 0.5726 - acc: 0.7231 - val_loss: 0.5702 - val_acc: 0.7260\n",
            "Epoch 76/600\n",
            "35367/35367 [==============================] - 0s 3us/step - loss: 0.5726 - acc: 0.7231 - val_loss: 0.5704 - val_acc: 0.7260\n",
            "Epoch 77/600\n",
            "35367/35367 [==============================] - 0s 3us/step - loss: 0.5726 - acc: 0.7231 - val_loss: 0.5701 - val_acc: 0.7260\n",
            "Epoch 78/600\n",
            "35367/35367 [==============================] - 0s 3us/step - loss: 0.5726 - acc: 0.7231 - val_loss: 0.5703 - val_acc: 0.7260\n",
            "Epoch 79/600\n",
            "35367/35367 [==============================] - 0s 3us/step - loss: 0.5726 - acc: 0.7231 - val_loss: 0.5702 - val_acc: 0.7260\n",
            "Epoch 80/600\n",
            "35367/35367 [==============================] - 0s 3us/step - loss: 0.5726 - acc: 0.7231 - val_loss: 0.5701 - val_acc: 0.7260\n",
            "Epoch 81/600\n",
            "35367/35367 [==============================] - 0s 3us/step - loss: 0.5726 - acc: 0.7231 - val_loss: 0.5702 - val_acc: 0.7260\n",
            "Epoch 82/600\n",
            "35367/35367 [==============================] - 0s 3us/step - loss: 0.5725 - acc: 0.7231 - val_loss: 0.5701 - val_acc: 0.7260\n",
            "Epoch 83/600\n",
            "35367/35367 [==============================] - 0s 3us/step - loss: 0.5725 - acc: 0.7231 - val_loss: 0.5702 - val_acc: 0.7260\n",
            "Epoch 84/600\n",
            "35367/35367 [==============================] - 0s 3us/step - loss: 0.5725 - acc: 0.7231 - val_loss: 0.5701 - val_acc: 0.7260\n",
            "Epoch 85/600\n",
            "35367/35367 [==============================] - 0s 3us/step - loss: 0.5725 - acc: 0.7231 - val_loss: 0.5702 - val_acc: 0.7260\n",
            "Epoch 86/600\n",
            "35367/35367 [==============================] - 0s 3us/step - loss: 0.5725 - acc: 0.7231 - val_loss: 0.5701 - val_acc: 0.7260\n",
            "Epoch 87/600\n",
            "35367/35367 [==============================] - 0s 3us/step - loss: 0.5725 - acc: 0.7231 - val_loss: 0.5702 - val_acc: 0.7260\n",
            "Epoch 88/600\n",
            "35367/35367 [==============================] - 0s 3us/step - loss: 0.5725 - acc: 0.7231 - val_loss: 0.5703 - val_acc: 0.7260\n",
            "Epoch 89/600\n",
            "35367/35367 [==============================] - 0s 3us/step - loss: 0.5725 - acc: 0.7231 - val_loss: 0.5701 - val_acc: 0.7260\n",
            "Epoch 90/600\n",
            "35367/35367 [==============================] - 0s 3us/step - loss: 0.5725 - acc: 0.7231 - val_loss: 0.5701 - val_acc: 0.7260\n",
            "Epoch 91/600\n",
            "35367/35367 [==============================] - 0s 3us/step - loss: 0.5725 - acc: 0.7231 - val_loss: 0.5702 - val_acc: 0.7260\n",
            "Epoch 92/600\n",
            "35367/35367 [==============================] - 0s 3us/step - loss: 0.5725 - acc: 0.7231 - val_loss: 0.5702 - val_acc: 0.7260\n",
            "Epoch 93/600\n",
            "35367/35367 [==============================] - 0s 3us/step - loss: 0.5725 - acc: 0.7231 - val_loss: 0.5703 - val_acc: 0.7260\n",
            "Epoch 94/600\n",
            "35367/35367 [==============================] - 0s 3us/step - loss: 0.5725 - acc: 0.7231 - val_loss: 0.5702 - val_acc: 0.7260\n",
            "Epoch 95/600\n",
            "35367/35367 [==============================] - 0s 3us/step - loss: 0.5724 - acc: 0.7231 - val_loss: 0.5704 - val_acc: 0.7260\n",
            "Epoch 96/600\n",
            "35367/35367 [==============================] - 0s 3us/step - loss: 0.5724 - acc: 0.7231 - val_loss: 0.5703 - val_acc: 0.7260\n",
            "Epoch 97/600\n",
            "35367/35367 [==============================] - 0s 3us/step - loss: 0.5724 - acc: 0.7231 - val_loss: 0.5701 - val_acc: 0.7260\n",
            "Epoch 98/600\n",
            "35367/35367 [==============================] - 0s 3us/step - loss: 0.5724 - acc: 0.7231 - val_loss: 0.5702 - val_acc: 0.7260\n",
            "Epoch 99/600\n",
            "35367/35367 [==============================] - 0s 3us/step - loss: 0.5724 - acc: 0.7231 - val_loss: 0.5704 - val_acc: 0.7260\n",
            "Epoch 100/600\n",
            "35367/35367 [==============================] - 0s 3us/step - loss: 0.5724 - acc: 0.7231 - val_loss: 0.5704 - val_acc: 0.7260\n",
            "Epoch 101/600\n",
            "35367/35367 [==============================] - 0s 3us/step - loss: 0.5724 - acc: 0.7231 - val_loss: 0.5703 - val_acc: 0.7260\n",
            "Epoch 102/600\n",
            "35367/35367 [==============================] - 0s 3us/step - loss: 0.5724 - acc: 0.7231 - val_loss: 0.5703 - val_acc: 0.7260\n",
            "Epoch 103/600\n",
            "35367/35367 [==============================] - 0s 3us/step - loss: 0.5724 - acc: 0.7231 - val_loss: 0.5703 - val_acc: 0.7260\n",
            "Epoch 104/600\n",
            "35367/35367 [==============================] - 0s 3us/step - loss: 0.5724 - acc: 0.7231 - val_loss: 0.5704 - val_acc: 0.7260\n",
            "Epoch 105/600\n",
            "35367/35367 [==============================] - 0s 3us/step - loss: 0.5723 - acc: 0.7231 - val_loss: 0.5703 - val_acc: 0.7260\n",
            "Epoch 106/600\n",
            "35367/35367 [==============================] - 0s 3us/step - loss: 0.5723 - acc: 0.7231 - val_loss: 0.5704 - val_acc: 0.7260\n",
            "Epoch 107/600\n",
            "35367/35367 [==============================] - 0s 3us/step - loss: 0.5723 - acc: 0.7231 - val_loss: 0.5703 - val_acc: 0.7260\n",
            "Epoch 108/600\n",
            "35367/35367 [==============================] - 0s 3us/step - loss: 0.5723 - acc: 0.7231 - val_loss: 0.5703 - val_acc: 0.7260\n",
            "Epoch 109/600\n",
            "35367/35367 [==============================] - 0s 3us/step - loss: 0.5723 - acc: 0.7231 - val_loss: 0.5703 - val_acc: 0.7260\n",
            "Epoch 110/600\n",
            "35367/35367 [==============================] - 0s 3us/step - loss: 0.5723 - acc: 0.7231 - val_loss: 0.5704 - val_acc: 0.7260\n",
            "Epoch 111/600\n",
            "35367/35367 [==============================] - 0s 3us/step - loss: 0.5723 - acc: 0.7231 - val_loss: 0.5704 - val_acc: 0.7260\n",
            "Epoch 112/600\n",
            "35367/35367 [==============================] - 0s 3us/step - loss: 0.5723 - acc: 0.7231 - val_loss: 0.5704 - val_acc: 0.7260\n",
            "Epoch 113/600\n",
            "35367/35367 [==============================] - 0s 3us/step - loss: 0.5723 - acc: 0.7231 - val_loss: 0.5704 - val_acc: 0.7260\n",
            "Epoch 114/600\n",
            "35367/35367 [==============================] - 0s 3us/step - loss: 0.5723 - acc: 0.7231 - val_loss: 0.5704 - val_acc: 0.7260\n",
            "Epoch 115/600\n",
            "35367/35367 [==============================] - 0s 3us/step - loss: 0.5723 - acc: 0.7231 - val_loss: 0.5704 - val_acc: 0.7260\n",
            "Epoch 116/600\n",
            "35367/35367 [==============================] - 0s 3us/step - loss: 0.5723 - acc: 0.7231 - val_loss: 0.5704 - val_acc: 0.7260\n",
            "Epoch 117/600\n",
            "35367/35367 [==============================] - 0s 3us/step - loss: 0.5723 - acc: 0.7231 - val_loss: 0.5704 - val_acc: 0.7260\n",
            "Epoch 118/600\n",
            "35367/35367 [==============================] - 0s 3us/step - loss: 0.5723 - acc: 0.7231 - val_loss: 0.5704 - val_acc: 0.7260\n",
            "Epoch 119/600\n",
            "35367/35367 [==============================] - 0s 3us/step - loss: 0.5723 - acc: 0.7231 - val_loss: 0.5704 - val_acc: 0.7260\n",
            "Epoch 120/600\n",
            "35367/35367 [==============================] - 0s 3us/step - loss: 0.5723 - acc: 0.7231 - val_loss: 0.5704 - val_acc: 0.7260\n",
            "Epoch 121/600\n",
            "35367/35367 [==============================] - 0s 3us/step - loss: 0.5723 - acc: 0.7231 - val_loss: 0.5704 - val_acc: 0.7260\n",
            "Epoch 122/600\n",
            "35367/35367 [==============================] - 0s 3us/step - loss: 0.5723 - acc: 0.7231 - val_loss: 0.5705 - val_acc: 0.7260\n",
            "Epoch 123/600\n",
            "35367/35367 [==============================] - 0s 3us/step - loss: 0.5723 - acc: 0.7231 - val_loss: 0.5704 - val_acc: 0.7260\n",
            "Epoch 124/600\n",
            "35367/35367 [==============================] - 0s 3us/step - loss: 0.5723 - acc: 0.7231 - val_loss: 0.5704 - val_acc: 0.7260\n",
            "Epoch 125/600\n",
            "35367/35367 [==============================] - 0s 3us/step - loss: 0.5723 - acc: 0.7231 - val_loss: 0.5705 - val_acc: 0.7260\n",
            "Epoch 126/600\n",
            "35367/35367 [==============================] - 0s 3us/step - loss: 0.5723 - acc: 0.7231 - val_loss: 0.5706 - val_acc: 0.7260\n",
            "Epoch 127/600\n",
            "35367/35367 [==============================] - 0s 3us/step - loss: 0.5723 - acc: 0.7231 - val_loss: 0.5705 - val_acc: 0.7260\n",
            "Epoch 128/600\n",
            "35367/35367 [==============================] - 0s 3us/step - loss: 0.5723 - acc: 0.7231 - val_loss: 0.5705 - val_acc: 0.7260\n",
            "Epoch 129/600\n",
            "35367/35367 [==============================] - 0s 3us/step - loss: 0.5723 - acc: 0.7231 - val_loss: 0.5705 - val_acc: 0.7260\n",
            "Epoch 130/600\n",
            "35367/35367 [==============================] - 0s 3us/step - loss: 0.5722 - acc: 0.7231 - val_loss: 0.5705 - val_acc: 0.7260\n",
            "Epoch 131/600\n",
            "35367/35367 [==============================] - 0s 3us/step - loss: 0.5722 - acc: 0.7231 - val_loss: 0.5705 - val_acc: 0.7260\n",
            "Epoch 132/600\n",
            "35367/35367 [==============================] - 0s 3us/step - loss: 0.5722 - acc: 0.7231 - val_loss: 0.5704 - val_acc: 0.7260\n",
            "Epoch 133/600\n",
            "35367/35367 [==============================] - 0s 3us/step - loss: 0.5722 - acc: 0.7231 - val_loss: 0.5705 - val_acc: 0.7260\n",
            "Epoch 134/600\n",
            "35367/35367 [==============================] - 0s 3us/step - loss: 0.5722 - acc: 0.7231 - val_loss: 0.5705 - val_acc: 0.7260\n",
            "Epoch 135/600\n",
            "35367/35367 [==============================] - 0s 3us/step - loss: 0.5722 - acc: 0.7231 - val_loss: 0.5705 - val_acc: 0.7260\n",
            "Epoch 136/600\n",
            "35367/35367 [==============================] - 0s 3us/step - loss: 0.5722 - acc: 0.7231 - val_loss: 0.5705 - val_acc: 0.7260\n",
            "Epoch 137/600\n",
            "35367/35367 [==============================] - 0s 3us/step - loss: 0.5722 - acc: 0.7231 - val_loss: 0.5704 - val_acc: 0.7260\n",
            "Epoch 138/600\n",
            "35367/35367 [==============================] - 0s 3us/step - loss: 0.5722 - acc: 0.7231 - val_loss: 0.5705 - val_acc: 0.7260\n",
            "Epoch 139/600\n",
            "35367/35367 [==============================] - 0s 3us/step - loss: 0.5722 - acc: 0.7231 - val_loss: 0.5707 - val_acc: 0.7260\n",
            "Epoch 140/600\n",
            "35367/35367 [==============================] - 0s 3us/step - loss: 0.5722 - acc: 0.7231 - val_loss: 0.5705 - val_acc: 0.7260\n",
            "Epoch 141/600\n",
            "35367/35367 [==============================] - 0s 3us/step - loss: 0.5722 - acc: 0.7231 - val_loss: 0.5707 - val_acc: 0.7260\n",
            "Epoch 142/600\n",
            "35367/35367 [==============================] - 0s 3us/step - loss: 0.5722 - acc: 0.7231 - val_loss: 0.5705 - val_acc: 0.7260\n",
            "Epoch 143/600\n",
            "35367/35367 [==============================] - 0s 3us/step - loss: 0.5722 - acc: 0.7231 - val_loss: 0.5706 - val_acc: 0.7260\n",
            "Epoch 144/600\n",
            "35367/35367 [==============================] - 0s 3us/step - loss: 0.5722 - acc: 0.7231 - val_loss: 0.5707 - val_acc: 0.7260\n",
            "Epoch 145/600\n",
            "35367/35367 [==============================] - 0s 3us/step - loss: 0.5722 - acc: 0.7231 - val_loss: 0.5707 - val_acc: 0.7260\n",
            "Epoch 146/600\n",
            "35367/35367 [==============================] - 0s 3us/step - loss: 0.5722 - acc: 0.7231 - val_loss: 0.5706 - val_acc: 0.7260\n",
            "Epoch 147/600\n",
            "35367/35367 [==============================] - 0s 3us/step - loss: 0.5722 - acc: 0.7231 - val_loss: 0.5705 - val_acc: 0.7260\n",
            "Epoch 148/600\n",
            "35367/35367 [==============================] - 0s 3us/step - loss: 0.5722 - acc: 0.7231 - val_loss: 0.5706 - val_acc: 0.7260\n",
            "Epoch 149/600\n",
            "35367/35367 [==============================] - 0s 3us/step - loss: 0.5721 - acc: 0.7231 - val_loss: 0.5706 - val_acc: 0.7260\n",
            "Epoch 150/600\n",
            "35367/35367 [==============================] - 0s 3us/step - loss: 0.5721 - acc: 0.7231 - val_loss: 0.5705 - val_acc: 0.7260\n",
            "Epoch 151/600\n",
            "35367/35367 [==============================] - 0s 3us/step - loss: 0.5721 - acc: 0.7231 - val_loss: 0.5705 - val_acc: 0.7260\n",
            "Epoch 152/600\n",
            "35367/35367 [==============================] - 0s 3us/step - loss: 0.5721 - acc: 0.7231 - val_loss: 0.5705 - val_acc: 0.7260\n",
            "Epoch 153/600\n",
            "35367/35367 [==============================] - 0s 3us/step - loss: 0.5721 - acc: 0.7231 - val_loss: 0.5705 - val_acc: 0.7260\n",
            "Epoch 154/600\n",
            "35367/35367 [==============================] - 0s 3us/step - loss: 0.5721 - acc: 0.7231 - val_loss: 0.5705 - val_acc: 0.7260\n",
            "Epoch 155/600\n",
            "35367/35367 [==============================] - 0s 3us/step - loss: 0.5721 - acc: 0.7231 - val_loss: 0.5705 - val_acc: 0.7260\n",
            "Epoch 156/600\n",
            "35367/35367 [==============================] - 0s 3us/step - loss: 0.5721 - acc: 0.7231 - val_loss: 0.5706 - val_acc: 0.7260\n",
            "Epoch 157/600\n",
            "35367/35367 [==============================] - 0s 3us/step - loss: 0.5721 - acc: 0.7231 - val_loss: 0.5705 - val_acc: 0.7260\n",
            "Epoch 158/600\n",
            "35367/35367 [==============================] - 0s 3us/step - loss: 0.5721 - acc: 0.7231 - val_loss: 0.5705 - val_acc: 0.7260\n",
            "Epoch 159/600\n",
            "35367/35367 [==============================] - 0s 3us/step - loss: 0.5721 - acc: 0.7231 - val_loss: 0.5706 - val_acc: 0.7260\n",
            "Epoch 160/600\n",
            "35367/35367 [==============================] - 0s 3us/step - loss: 0.5721 - acc: 0.7231 - val_loss: 0.5706 - val_acc: 0.7260\n",
            "Epoch 161/600\n",
            "35367/35367 [==============================] - 0s 3us/step - loss: 0.5721 - acc: 0.7231 - val_loss: 0.5705 - val_acc: 0.7260\n",
            "Epoch 162/600\n",
            "35367/35367 [==============================] - 0s 3us/step - loss: 0.5721 - acc: 0.7231 - val_loss: 0.5706 - val_acc: 0.7260\n",
            "Epoch 163/600\n",
            "35367/35367 [==============================] - 0s 3us/step - loss: 0.5721 - acc: 0.7231 - val_loss: 0.5705 - val_acc: 0.7260\n",
            "Epoch 164/600\n",
            "35367/35367 [==============================] - 0s 3us/step - loss: 0.5721 - acc: 0.7231 - val_loss: 0.5705 - val_acc: 0.7260\n",
            "Epoch 165/600\n",
            "35367/35367 [==============================] - 0s 3us/step - loss: 0.5721 - acc: 0.7231 - val_loss: 0.5706 - val_acc: 0.7260\n",
            "Epoch 166/600\n",
            "35367/35367 [==============================] - 0s 3us/step - loss: 0.5721 - acc: 0.7231 - val_loss: 0.5706 - val_acc: 0.7260\n",
            "Epoch 167/600\n",
            "35367/35367 [==============================] - 0s 3us/step - loss: 0.5721 - acc: 0.7231 - val_loss: 0.5706 - val_acc: 0.7260\n",
            "Epoch 168/600\n",
            "35367/35367 [==============================] - 0s 3us/step - loss: 0.5721 - acc: 0.7231 - val_loss: 0.5706 - val_acc: 0.7260\n",
            "Epoch 169/600\n",
            "35367/35367 [==============================] - 0s 3us/step - loss: 0.5721 - acc: 0.7231 - val_loss: 0.5706 - val_acc: 0.7260\n",
            "Epoch 170/600\n",
            "35367/35367 [==============================] - 0s 3us/step - loss: 0.5721 - acc: 0.7231 - val_loss: 0.5706 - val_acc: 0.7260\n",
            "Epoch 171/600\n",
            "35367/35367 [==============================] - 0s 3us/step - loss: 0.5721 - acc: 0.7231 - val_loss: 0.5706 - val_acc: 0.7260\n",
            "Epoch 172/600\n",
            "35367/35367 [==============================] - 0s 3us/step - loss: 0.5721 - acc: 0.7231 - val_loss: 0.5706 - val_acc: 0.7260\n",
            "Epoch 173/600\n",
            "35367/35367 [==============================] - 0s 3us/step - loss: 0.5720 - acc: 0.7231 - val_loss: 0.5705 - val_acc: 0.7260\n",
            "Epoch 174/600\n",
            "35367/35367 [==============================] - 0s 3us/step - loss: 0.5720 - acc: 0.7231 - val_loss: 0.5706 - val_acc: 0.7260\n",
            "Epoch 175/600\n",
            "35367/35367 [==============================] - 0s 3us/step - loss: 0.5721 - acc: 0.7231 - val_loss: 0.5705 - val_acc: 0.7260\n",
            "Epoch 176/600\n",
            "35367/35367 [==============================] - 0s 3us/step - loss: 0.5720 - acc: 0.7231 - val_loss: 0.5705 - val_acc: 0.7260\n",
            "Epoch 177/600\n",
            "35367/35367 [==============================] - 0s 3us/step - loss: 0.5720 - acc: 0.7231 - val_loss: 0.5705 - val_acc: 0.7260\n",
            "Epoch 178/600\n",
            "35367/35367 [==============================] - 0s 3us/step - loss: 0.5721 - acc: 0.7231 - val_loss: 0.5705 - val_acc: 0.7260\n",
            "Epoch 179/600\n",
            "35367/35367 [==============================] - 0s 3us/step - loss: 0.5720 - acc: 0.7231 - val_loss: 0.5706 - val_acc: 0.7260\n",
            "Epoch 180/600\n",
            "35367/35367 [==============================] - 0s 3us/step - loss: 0.5720 - acc: 0.7231 - val_loss: 0.5706 - val_acc: 0.7260\n",
            "Epoch 181/600\n",
            "35367/35367 [==============================] - 0s 3us/step - loss: 0.5720 - acc: 0.7231 - val_loss: 0.5706 - val_acc: 0.7260\n",
            "Epoch 182/600\n",
            "35367/35367 [==============================] - 0s 3us/step - loss: 0.5720 - acc: 0.7231 - val_loss: 0.5707 - val_acc: 0.7260\n",
            "Epoch 183/600\n",
            "35367/35367 [==============================] - 0s 3us/step - loss: 0.5720 - acc: 0.7231 - val_loss: 0.5707 - val_acc: 0.7260\n",
            "Epoch 184/600\n",
            "35367/35367 [==============================] - 0s 3us/step - loss: 0.5720 - acc: 0.7231 - val_loss: 0.5706 - val_acc: 0.7260\n",
            "Epoch 185/600\n",
            "35367/35367 [==============================] - 0s 3us/step - loss: 0.5720 - acc: 0.7231 - val_loss: 0.5706 - val_acc: 0.7260\n",
            "Epoch 186/600\n",
            "35367/35367 [==============================] - 0s 3us/step - loss: 0.5720 - acc: 0.7231 - val_loss: 0.5705 - val_acc: 0.7260\n",
            "Epoch 187/600\n",
            "35367/35367 [==============================] - 0s 3us/step - loss: 0.5720 - acc: 0.7231 - val_loss: 0.5706 - val_acc: 0.7260\n",
            "Epoch 188/600\n",
            "35367/35367 [==============================] - 0s 3us/step - loss: 0.5720 - acc: 0.7231 - val_loss: 0.5707 - val_acc: 0.7260\n",
            "Epoch 189/600\n",
            "35367/35367 [==============================] - 0s 3us/step - loss: 0.5720 - acc: 0.7231 - val_loss: 0.5707 - val_acc: 0.7260\n",
            "Epoch 190/600\n",
            "35367/35367 [==============================] - 0s 3us/step - loss: 0.5720 - acc: 0.7231 - val_loss: 0.5707 - val_acc: 0.7260\n",
            "Epoch 191/600\n",
            "35367/35367 [==============================] - 0s 3us/step - loss: 0.5720 - acc: 0.7231 - val_loss: 0.5707 - val_acc: 0.7260\n",
            "Epoch 192/600\n",
            "35367/35367 [==============================] - 0s 3us/step - loss: 0.5720 - acc: 0.7231 - val_loss: 0.5706 - val_acc: 0.7260\n",
            "Epoch 193/600\n",
            "35367/35367 [==============================] - 0s 3us/step - loss: 0.5720 - acc: 0.7231 - val_loss: 0.5706 - val_acc: 0.7260\n",
            "Epoch 194/600\n",
            "35367/35367 [==============================] - 0s 3us/step - loss: 0.5720 - acc: 0.7231 - val_loss: 0.5706 - val_acc: 0.7260\n",
            "Epoch 195/600\n",
            "35367/35367 [==============================] - 0s 3us/step - loss: 0.5720 - acc: 0.7231 - val_loss: 0.5705 - val_acc: 0.7260\n",
            "Epoch 196/600\n",
            "35367/35367 [==============================] - 0s 3us/step - loss: 0.5720 - acc: 0.7231 - val_loss: 0.5706 - val_acc: 0.7260\n",
            "Epoch 197/600\n",
            "35367/35367 [==============================] - 0s 3us/step - loss: 0.5720 - acc: 0.7231 - val_loss: 0.5705 - val_acc: 0.7260\n",
            "Epoch 198/600\n",
            "35367/35367 [==============================] - 0s 3us/step - loss: 0.5720 - acc: 0.7231 - val_loss: 0.5706 - val_acc: 0.7260\n",
            "Epoch 199/600\n",
            "35367/35367 [==============================] - 0s 3us/step - loss: 0.5720 - acc: 0.7231 - val_loss: 0.5705 - val_acc: 0.7260\n",
            "Epoch 200/600\n",
            "35367/35367 [==============================] - 0s 3us/step - loss: 0.5720 - acc: 0.7231 - val_loss: 0.5705 - val_acc: 0.7260\n",
            "Epoch 201/600\n",
            "35367/35367 [==============================] - 0s 3us/step - loss: 0.5720 - acc: 0.7231 - val_loss: 0.5705 - val_acc: 0.7260\n",
            "Epoch 202/600\n",
            "35367/35367 [==============================] - 0s 3us/step - loss: 0.5720 - acc: 0.7231 - val_loss: 0.5705 - val_acc: 0.7260\n",
            "Epoch 203/600\n",
            "35367/35367 [==============================] - 0s 3us/step - loss: 0.5720 - acc: 0.7231 - val_loss: 0.5705 - val_acc: 0.7260\n",
            "Epoch 204/600\n",
            "35367/35367 [==============================] - 0s 3us/step - loss: 0.5719 - acc: 0.7231 - val_loss: 0.5707 - val_acc: 0.7260\n",
            "Epoch 205/600\n",
            "35367/35367 [==============================] - 0s 3us/step - loss: 0.5720 - acc: 0.7231 - val_loss: 0.5705 - val_acc: 0.7260\n",
            "Epoch 206/600\n",
            "35367/35367 [==============================] - 0s 3us/step - loss: 0.5720 - acc: 0.7231 - val_loss: 0.5705 - val_acc: 0.7260\n",
            "Epoch 207/600\n",
            "35367/35367 [==============================] - 0s 3us/step - loss: 0.5720 - acc: 0.7231 - val_loss: 0.5705 - val_acc: 0.7260\n",
            "Epoch 208/600\n",
            "35367/35367 [==============================] - 0s 3us/step - loss: 0.5720 - acc: 0.7231 - val_loss: 0.5705 - val_acc: 0.7260\n",
            "Epoch 209/600\n",
            "35367/35367 [==============================] - 0s 3us/step - loss: 0.5720 - acc: 0.7231 - val_loss: 0.5705 - val_acc: 0.7260\n",
            "Epoch 210/600\n",
            "35367/35367 [==============================] - 0s 3us/step - loss: 0.5720 - acc: 0.7231 - val_loss: 0.5705 - val_acc: 0.7260\n",
            "Epoch 211/600\n",
            "35367/35367 [==============================] - 0s 3us/step - loss: 0.5720 - acc: 0.7231 - val_loss: 0.5705 - val_acc: 0.7260\n",
            "Epoch 212/600\n",
            "35367/35367 [==============================] - 0s 3us/step - loss: 0.5720 - acc: 0.7231 - val_loss: 0.5705 - val_acc: 0.7260\n",
            "Epoch 213/600\n",
            "35367/35367 [==============================] - 0s 3us/step - loss: 0.5720 - acc: 0.7231 - val_loss: 0.5705 - val_acc: 0.7260\n",
            "Epoch 214/600\n",
            "35367/35367 [==============================] - 0s 3us/step - loss: 0.5720 - acc: 0.7231 - val_loss: 0.5705 - val_acc: 0.7260\n",
            "Epoch 215/600\n",
            "35367/35367 [==============================] - 0s 3us/step - loss: 0.5720 - acc: 0.7231 - val_loss: 0.5706 - val_acc: 0.7260\n",
            "Epoch 216/600\n",
            "35367/35367 [==============================] - 0s 3us/step - loss: 0.5720 - acc: 0.7231 - val_loss: 0.5705 - val_acc: 0.7260\n",
            "Epoch 217/600\n",
            "35367/35367 [==============================] - 0s 3us/step - loss: 0.5720 - acc: 0.7231 - val_loss: 0.5705 - val_acc: 0.7260\n",
            "Epoch 218/600\n",
            "35367/35367 [==============================] - 0s 3us/step - loss: 0.5720 - acc: 0.7231 - val_loss: 0.5705 - val_acc: 0.7260\n",
            "Epoch 219/600\n",
            "35367/35367 [==============================] - 0s 3us/step - loss: 0.5720 - acc: 0.7231 - val_loss: 0.5705 - val_acc: 0.7260\n",
            "Epoch 220/600\n",
            "35367/35367 [==============================] - 0s 3us/step - loss: 0.5720 - acc: 0.7231 - val_loss: 0.5705 - val_acc: 0.7260\n",
            "Epoch 221/600\n",
            "35367/35367 [==============================] - 0s 3us/step - loss: 0.5720 - acc: 0.7231 - val_loss: 0.5705 - val_acc: 0.7260\n",
            "Epoch 222/600\n",
            "35367/35367 [==============================] - 0s 3us/step - loss: 0.5720 - acc: 0.7231 - val_loss: 0.5705 - val_acc: 0.7260\n",
            "Epoch 223/600\n",
            "35367/35367 [==============================] - 0s 3us/step - loss: 0.5719 - acc: 0.7231 - val_loss: 0.5706 - val_acc: 0.7260\n",
            "Epoch 224/600\n",
            "35367/35367 [==============================] - 0s 3us/step - loss: 0.5720 - acc: 0.7231 - val_loss: 0.5706 - val_acc: 0.7260\n",
            "Epoch 225/600\n",
            "35367/35367 [==============================] - 0s 3us/step - loss: 0.5720 - acc: 0.7231 - val_loss: 0.5705 - val_acc: 0.7260\n",
            "Epoch 226/600\n",
            "35367/35367 [==============================] - 0s 3us/step - loss: 0.5720 - acc: 0.7231 - val_loss: 0.5705 - val_acc: 0.7260\n",
            "Epoch 227/600\n",
            "35367/35367 [==============================] - 0s 3us/step - loss: 0.5720 - acc: 0.7231 - val_loss: 0.5705 - val_acc: 0.7260\n",
            "Epoch 228/600\n",
            "35367/35367 [==============================] - 0s 3us/step - loss: 0.5720 - acc: 0.7231 - val_loss: 0.5705 - val_acc: 0.7260\n",
            "Epoch 229/600\n",
            "35367/35367 [==============================] - 0s 3us/step - loss: 0.5720 - acc: 0.7231 - val_loss: 0.5706 - val_acc: 0.7260\n",
            "Epoch 230/600\n",
            "35367/35367 [==============================] - 0s 3us/step - loss: 0.5720 - acc: 0.7231 - val_loss: 0.5706 - val_acc: 0.7260\n",
            "Epoch 231/600\n",
            "35367/35367 [==============================] - 0s 3us/step - loss: 0.5720 - acc: 0.7231 - val_loss: 0.5705 - val_acc: 0.7260\n",
            "Epoch 232/600\n",
            "35367/35367 [==============================] - 0s 3us/step - loss: 0.5719 - acc: 0.7231 - val_loss: 0.5705 - val_acc: 0.7260\n",
            "Epoch 233/600\n",
            "35367/35367 [==============================] - 0s 3us/step - loss: 0.5720 - acc: 0.7231 - val_loss: 0.5706 - val_acc: 0.7260\n",
            "Epoch 234/600\n",
            "35367/35367 [==============================] - 0s 3us/step - loss: 0.5720 - acc: 0.7231 - val_loss: 0.5706 - val_acc: 0.7260\n",
            "Epoch 235/600\n",
            "35367/35367 [==============================] - 0s 3us/step - loss: 0.5720 - acc: 0.7231 - val_loss: 0.5705 - val_acc: 0.7260\n",
            "Epoch 236/600\n",
            "35367/35367 [==============================] - 0s 3us/step - loss: 0.5720 - acc: 0.7231 - val_loss: 0.5706 - val_acc: 0.7260\n",
            "Epoch 237/600\n",
            "35367/35367 [==============================] - 0s 3us/step - loss: 0.5720 - acc: 0.7231 - val_loss: 0.5706 - val_acc: 0.7260\n",
            "Epoch 238/600\n",
            "35367/35367 [==============================] - 0s 3us/step - loss: 0.5719 - acc: 0.7231 - val_loss: 0.5707 - val_acc: 0.7260\n",
            "Epoch 239/600\n",
            "35367/35367 [==============================] - 0s 3us/step - loss: 0.5720 - acc: 0.7231 - val_loss: 0.5707 - val_acc: 0.7260\n",
            "Epoch 240/600\n",
            "35367/35367 [==============================] - 0s 3us/step - loss: 0.5720 - acc: 0.7231 - val_loss: 0.5706 - val_acc: 0.7260\n",
            "Epoch 241/600\n",
            "35367/35367 [==============================] - 0s 3us/step - loss: 0.5720 - acc: 0.7231 - val_loss: 0.5705 - val_acc: 0.7260\n",
            "Epoch 242/600\n",
            "35367/35367 [==============================] - 0s 3us/step - loss: 0.5720 - acc: 0.7231 - val_loss: 0.5706 - val_acc: 0.7260\n",
            "Epoch 243/600\n",
            "35367/35367 [==============================] - 0s 3us/step - loss: 0.5720 - acc: 0.7231 - val_loss: 0.5706 - val_acc: 0.7260\n",
            "Epoch 244/600\n",
            "35367/35367 [==============================] - 0s 3us/step - loss: 0.5720 - acc: 0.7231 - val_loss: 0.5705 - val_acc: 0.7260\n",
            "Epoch 245/600\n",
            "35367/35367 [==============================] - 0s 3us/step - loss: 0.5720 - acc: 0.7231 - val_loss: 0.5705 - val_acc: 0.7260\n",
            "Epoch 246/600\n",
            "35367/35367 [==============================] - 0s 3us/step - loss: 0.5719 - acc: 0.7231 - val_loss: 0.5705 - val_acc: 0.7260\n",
            "Epoch 247/600\n",
            "35367/35367 [==============================] - 0s 3us/step - loss: 0.5719 - acc: 0.7231 - val_loss: 0.5705 - val_acc: 0.7260\n",
            "Epoch 248/600\n",
            "35367/35367 [==============================] - 0s 3us/step - loss: 0.5719 - acc: 0.7231 - val_loss: 0.5705 - val_acc: 0.7260\n",
            "Epoch 249/600\n",
            "35367/35367 [==============================] - 0s 3us/step - loss: 0.5719 - acc: 0.7231 - val_loss: 0.5705 - val_acc: 0.7260\n",
            "Epoch 250/600\n",
            "35367/35367 [==============================] - 0s 3us/step - loss: 0.5719 - acc: 0.7231 - val_loss: 0.5705 - val_acc: 0.7260\n",
            "Epoch 251/600\n",
            "35367/35367 [==============================] - 0s 3us/step - loss: 0.5719 - acc: 0.7231 - val_loss: 0.5705 - val_acc: 0.7260\n",
            "Epoch 252/600\n",
            "35367/35367 [==============================] - 0s 3us/step - loss: 0.5719 - acc: 0.7231 - val_loss: 0.5705 - val_acc: 0.7260\n",
            "Epoch 253/600\n",
            "35367/35367 [==============================] - 0s 3us/step - loss: 0.5719 - acc: 0.7231 - val_loss: 0.5705 - val_acc: 0.7260\n",
            "Epoch 254/600\n",
            "35367/35367 [==============================] - 0s 3us/step - loss: 0.5719 - acc: 0.7231 - val_loss: 0.5706 - val_acc: 0.7260\n",
            "Epoch 255/600\n",
            "35367/35367 [==============================] - 0s 3us/step - loss: 0.5719 - acc: 0.7231 - val_loss: 0.5705 - val_acc: 0.7260\n",
            "Epoch 256/600\n",
            "35367/35367 [==============================] - 0s 3us/step - loss: 0.5720 - acc: 0.7231 - val_loss: 0.5705 - val_acc: 0.7260\n",
            "Epoch 257/600\n",
            "35367/35367 [==============================] - 0s 3us/step - loss: 0.5719 - acc: 0.7231 - val_loss: 0.5704 - val_acc: 0.7260\n",
            "Epoch 258/600\n",
            "35367/35367 [==============================] - 0s 3us/step - loss: 0.5719 - acc: 0.7231 - val_loss: 0.5704 - val_acc: 0.7260\n",
            "Epoch 259/600\n",
            "35367/35367 [==============================] - 0s 3us/step - loss: 0.5719 - acc: 0.7231 - val_loss: 0.5704 - val_acc: 0.7260\n",
            "Epoch 260/600\n",
            "35367/35367 [==============================] - 0s 3us/step - loss: 0.5719 - acc: 0.7231 - val_loss: 0.5705 - val_acc: 0.7260\n",
            "Epoch 261/600\n",
            "35367/35367 [==============================] - 0s 3us/step - loss: 0.5719 - acc: 0.7231 - val_loss: 0.5704 - val_acc: 0.7260\n",
            "Epoch 262/600\n",
            "35367/35367 [==============================] - 0s 3us/step - loss: 0.5719 - acc: 0.7231 - val_loss: 0.5705 - val_acc: 0.7260\n",
            "Epoch 263/600\n",
            "35367/35367 [==============================] - 0s 3us/step - loss: 0.5719 - acc: 0.7231 - val_loss: 0.5704 - val_acc: 0.7260\n",
            "Epoch 264/600\n",
            "35367/35367 [==============================] - 0s 3us/step - loss: 0.5719 - acc: 0.7231 - val_loss: 0.5705 - val_acc: 0.7260\n",
            "Epoch 265/600\n",
            "35367/35367 [==============================] - 0s 3us/step - loss: 0.5719 - acc: 0.7231 - val_loss: 0.5704 - val_acc: 0.7260\n",
            "Epoch 266/600\n",
            "35367/35367 [==============================] - 0s 3us/step - loss: 0.5719 - acc: 0.7231 - val_loss: 0.5705 - val_acc: 0.7260\n",
            "Epoch 267/600\n",
            "35367/35367 [==============================] - 0s 3us/step - loss: 0.5719 - acc: 0.7231 - val_loss: 0.5705 - val_acc: 0.7260\n",
            "Epoch 268/600\n",
            "35367/35367 [==============================] - 0s 3us/step - loss: 0.5719 - acc: 0.7231 - val_loss: 0.5704 - val_acc: 0.7260\n",
            "Epoch 269/600\n",
            "35367/35367 [==============================] - 0s 3us/step - loss: 0.5719 - acc: 0.7231 - val_loss: 0.5703 - val_acc: 0.7260\n",
            "Epoch 270/600\n",
            "35367/35367 [==============================] - 0s 3us/step - loss: 0.5719 - acc: 0.7231 - val_loss: 0.5704 - val_acc: 0.7260\n",
            "Epoch 271/600\n",
            "35367/35367 [==============================] - 0s 3us/step - loss: 0.5719 - acc: 0.7231 - val_loss: 0.5704 - val_acc: 0.7260\n",
            "Epoch 272/600\n",
            "35367/35367 [==============================] - 0s 3us/step - loss: 0.5719 - acc: 0.7231 - val_loss: 0.5705 - val_acc: 0.7260\n",
            "Epoch 273/600\n",
            "35367/35367 [==============================] - 0s 3us/step - loss: 0.5719 - acc: 0.7231 - val_loss: 0.5704 - val_acc: 0.7260\n",
            "Epoch 274/600\n",
            "35367/35367 [==============================] - 0s 3us/step - loss: 0.5719 - acc: 0.7231 - val_loss: 0.5705 - val_acc: 0.7260\n",
            "Epoch 275/600\n",
            "35367/35367 [==============================] - 0s 3us/step - loss: 0.5719 - acc: 0.7231 - val_loss: 0.5705 - val_acc: 0.7260\n",
            "Epoch 276/600\n",
            "35367/35367 [==============================] - 0s 3us/step - loss: 0.5719 - acc: 0.7231 - val_loss: 0.5704 - val_acc: 0.7260\n",
            "Epoch 277/600\n",
            "35367/35367 [==============================] - 0s 3us/step - loss: 0.5719 - acc: 0.7231 - val_loss: 0.5704 - val_acc: 0.7260\n",
            "Epoch 278/600\n",
            "35367/35367 [==============================] - 0s 3us/step - loss: 0.5719 - acc: 0.7231 - val_loss: 0.5704 - val_acc: 0.7260\n",
            "Epoch 279/600\n",
            "35367/35367 [==============================] - 0s 3us/step - loss: 0.5719 - acc: 0.7231 - val_loss: 0.5703 - val_acc: 0.7260\n",
            "Epoch 280/600\n",
            "35367/35367 [==============================] - 0s 3us/step - loss: 0.5719 - acc: 0.7231 - val_loss: 0.5704 - val_acc: 0.7260\n",
            "Epoch 281/600\n",
            "35367/35367 [==============================] - 0s 3us/step - loss: 0.5719 - acc: 0.7231 - val_loss: 0.5704 - val_acc: 0.7260\n",
            "Epoch 282/600\n",
            "35367/35367 [==============================] - 0s 3us/step - loss: 0.5719 - acc: 0.7231 - val_loss: 0.5703 - val_acc: 0.7260\n",
            "Epoch 283/600\n",
            "35367/35367 [==============================] - 0s 3us/step - loss: 0.5719 - acc: 0.7231 - val_loss: 0.5703 - val_acc: 0.7260\n",
            "Epoch 284/600\n",
            "35367/35367 [==============================] - 0s 3us/step - loss: 0.5719 - acc: 0.7231 - val_loss: 0.5703 - val_acc: 0.7260\n",
            "Epoch 285/600\n",
            "35367/35367 [==============================] - 0s 3us/step - loss: 0.5719 - acc: 0.7231 - val_loss: 0.5704 - val_acc: 0.7260\n",
            "Epoch 286/600\n",
            "35367/35367 [==============================] - 0s 3us/step - loss: 0.5719 - acc: 0.7231 - val_loss: 0.5703 - val_acc: 0.7260\n",
            "Epoch 287/600\n",
            "35367/35367 [==============================] - 0s 3us/step - loss: 0.5719 - acc: 0.7231 - val_loss: 0.5704 - val_acc: 0.7260\n",
            "Epoch 288/600\n",
            "35367/35367 [==============================] - 0s 3us/step - loss: 0.5719 - acc: 0.7231 - val_loss: 0.5703 - val_acc: 0.7260\n",
            "Epoch 289/600\n",
            "35367/35367 [==============================] - 0s 3us/step - loss: 0.5719 - acc: 0.7231 - val_loss: 0.5704 - val_acc: 0.7260\n",
            "Epoch 290/600\n",
            "35367/35367 [==============================] - 0s 3us/step - loss: 0.5719 - acc: 0.7231 - val_loss: 0.5704 - val_acc: 0.7260\n",
            "Epoch 291/600\n",
            "35367/35367 [==============================] - 0s 3us/step - loss: 0.5719 - acc: 0.7231 - val_loss: 0.5703 - val_acc: 0.7260\n",
            "Epoch 292/600\n",
            "35367/35367 [==============================] - 0s 3us/step - loss: 0.5719 - acc: 0.7231 - val_loss: 0.5704 - val_acc: 0.7260\n",
            "Epoch 293/600\n",
            "35367/35367 [==============================] - 0s 3us/step - loss: 0.5719 - acc: 0.7231 - val_loss: 0.5704 - val_acc: 0.7260\n",
            "Epoch 294/600\n",
            "35367/35367 [==============================] - 0s 3us/step - loss: 0.5719 - acc: 0.7231 - val_loss: 0.5703 - val_acc: 0.7260\n",
            "Epoch 295/600\n",
            "35367/35367 [==============================] - 0s 3us/step - loss: 0.5719 - acc: 0.7231 - val_loss: 0.5703 - val_acc: 0.7260\n",
            "Epoch 296/600\n",
            "35367/35367 [==============================] - 0s 3us/step - loss: 0.5719 - acc: 0.7231 - val_loss: 0.5705 - val_acc: 0.7260\n",
            "Epoch 297/600\n",
            "35367/35367 [==============================] - 0s 3us/step - loss: 0.5719 - acc: 0.7231 - val_loss: 0.5704 - val_acc: 0.7260\n",
            "Epoch 298/600\n",
            "35367/35367 [==============================] - 0s 3us/step - loss: 0.5719 - acc: 0.7231 - val_loss: 0.5704 - val_acc: 0.7260\n",
            "Epoch 299/600\n",
            "35367/35367 [==============================] - 0s 3us/step - loss: 0.5719 - acc: 0.7231 - val_loss: 0.5703 - val_acc: 0.7260\n",
            "Epoch 300/600\n",
            "35367/35367 [==============================] - 0s 3us/step - loss: 0.5719 - acc: 0.7231 - val_loss: 0.5703 - val_acc: 0.7260\n",
            "Epoch 301/600\n",
            "35367/35367 [==============================] - 0s 3us/step - loss: 0.5719 - acc: 0.7231 - val_loss: 0.5703 - val_acc: 0.7260\n",
            "Epoch 302/600\n",
            "35367/35367 [==============================] - 0s 3us/step - loss: 0.5719 - acc: 0.7231 - val_loss: 0.5703 - val_acc: 0.7260\n",
            "Epoch 303/600\n",
            "35367/35367 [==============================] - 0s 3us/step - loss: 0.5719 - acc: 0.7231 - val_loss: 0.5704 - val_acc: 0.7260\n",
            "Epoch 304/600\n",
            "35367/35367 [==============================] - 0s 3us/step - loss: 0.5719 - acc: 0.7231 - val_loss: 0.5703 - val_acc: 0.7260\n",
            "Epoch 305/600\n",
            "35367/35367 [==============================] - 0s 3us/step - loss: 0.5719 - acc: 0.7231 - val_loss: 0.5703 - val_acc: 0.7260\n",
            "Epoch 306/600\n",
            "35367/35367 [==============================] - 0s 3us/step - loss: 0.5719 - acc: 0.7231 - val_loss: 0.5703 - val_acc: 0.7260\n",
            "Epoch 307/600\n",
            "35367/35367 [==============================] - 0s 3us/step - loss: 0.5719 - acc: 0.7231 - val_loss: 0.5704 - val_acc: 0.7260\n",
            "Epoch 308/600\n",
            "35367/35367 [==============================] - 0s 3us/step - loss: 0.5719 - acc: 0.7231 - val_loss: 0.5703 - val_acc: 0.7260\n",
            "Epoch 309/600\n",
            "35367/35367 [==============================] - 0s 3us/step - loss: 0.5719 - acc: 0.7231 - val_loss: 0.5703 - val_acc: 0.7260\n",
            "Epoch 310/600\n",
            "35367/35367 [==============================] - 0s 3us/step - loss: 0.5719 - acc: 0.7231 - val_loss: 0.5703 - val_acc: 0.7260\n",
            "Epoch 311/600\n",
            "35367/35367 [==============================] - 0s 3us/step - loss: 0.5719 - acc: 0.7231 - val_loss: 0.5704 - val_acc: 0.7260\n",
            "Epoch 312/600\n",
            "35367/35367 [==============================] - 0s 3us/step - loss: 0.5719 - acc: 0.7231 - val_loss: 0.5703 - val_acc: 0.7260\n",
            "Epoch 313/600\n",
            "35367/35367 [==============================] - 0s 3us/step - loss: 0.5719 - acc: 0.7231 - val_loss: 0.5703 - val_acc: 0.7260\n",
            "Epoch 314/600\n",
            "35367/35367 [==============================] - 0s 3us/step - loss: 0.5719 - acc: 0.7231 - val_loss: 0.5703 - val_acc: 0.7260\n",
            "Epoch 315/600\n",
            "35367/35367 [==============================] - 0s 3us/step - loss: 0.5719 - acc: 0.7231 - val_loss: 0.5703 - val_acc: 0.7260\n",
            "Epoch 316/600\n",
            "35367/35367 [==============================] - 0s 3us/step - loss: 0.5719 - acc: 0.7231 - val_loss: 0.5703 - val_acc: 0.7260\n",
            "Epoch 317/600\n",
            "35367/35367 [==============================] - 0s 3us/step - loss: 0.5719 - acc: 0.7231 - val_loss: 0.5703 - val_acc: 0.7260\n",
            "Epoch 318/600\n",
            "35367/35367 [==============================] - 0s 3us/step - loss: 0.5719 - acc: 0.7231 - val_loss: 0.5703 - val_acc: 0.7260\n",
            "Epoch 319/600\n",
            "35367/35367 [==============================] - 0s 3us/step - loss: 0.5719 - acc: 0.7231 - val_loss: 0.5703 - val_acc: 0.7260\n",
            "Epoch 320/600\n",
            "35367/35367 [==============================] - 0s 3us/step - loss: 0.5719 - acc: 0.7231 - val_loss: 0.5703 - val_acc: 0.7260\n",
            "Epoch 321/600\n",
            "35367/35367 [==============================] - 0s 3us/step - loss: 0.5719 - acc: 0.7231 - val_loss: 0.5703 - val_acc: 0.7260\n",
            "Epoch 322/600\n",
            "35367/35367 [==============================] - 0s 3us/step - loss: 0.5719 - acc: 0.7231 - val_loss: 0.5704 - val_acc: 0.7260\n",
            "Epoch 323/600\n",
            "35367/35367 [==============================] - 0s 3us/step - loss: 0.5719 - acc: 0.7231 - val_loss: 0.5703 - val_acc: 0.7260\n",
            "Epoch 324/600\n",
            "35367/35367 [==============================] - 0s 3us/step - loss: 0.5719 - acc: 0.7231 - val_loss: 0.5703 - val_acc: 0.7260\n",
            "Epoch 325/600\n",
            "35367/35367 [==============================] - 0s 3us/step - loss: 0.5719 - acc: 0.7231 - val_loss: 0.5703 - val_acc: 0.7260\n",
            "Epoch 326/600\n",
            "35367/35367 [==============================] - 0s 3us/step - loss: 0.5719 - acc: 0.7231 - val_loss: 0.5702 - val_acc: 0.7260\n",
            "Epoch 327/600\n",
            "35367/35367 [==============================] - 0s 3us/step - loss: 0.5719 - acc: 0.7231 - val_loss: 0.5703 - val_acc: 0.7260\n",
            "Epoch 328/600\n",
            "35367/35367 [==============================] - 0s 3us/step - loss: 0.5719 - acc: 0.7231 - val_loss: 0.5702 - val_acc: 0.7260\n",
            "Epoch 329/600\n",
            "35367/35367 [==============================] - 0s 3us/step - loss: 0.5719 - acc: 0.7231 - val_loss: 0.5703 - val_acc: 0.7260\n",
            "Epoch 330/600\n",
            "35367/35367 [==============================] - 0s 3us/step - loss: 0.5719 - acc: 0.7231 - val_loss: 0.5703 - val_acc: 0.7260\n",
            "Epoch 331/600\n",
            "35367/35367 [==============================] - 0s 3us/step - loss: 0.5719 - acc: 0.7231 - val_loss: 0.5703 - val_acc: 0.7260\n",
            "Epoch 332/600\n",
            "35367/35367 [==============================] - 0s 3us/step - loss: 0.5719 - acc: 0.7231 - val_loss: 0.5703 - val_acc: 0.7260\n",
            "Epoch 333/600\n",
            "35367/35367 [==============================] - 0s 3us/step - loss: 0.5719 - acc: 0.7231 - val_loss: 0.5703 - val_acc: 0.7260\n",
            "Epoch 334/600\n",
            "35367/35367 [==============================] - 0s 3us/step - loss: 0.5719 - acc: 0.7231 - val_loss: 0.5703 - val_acc: 0.7260\n",
            "Epoch 335/600\n",
            "35367/35367 [==============================] - 0s 3us/step - loss: 0.5719 - acc: 0.7231 - val_loss: 0.5703 - val_acc: 0.7260\n",
            "Epoch 336/600\n",
            "35367/35367 [==============================] - 0s 3us/step - loss: 0.5719 - acc: 0.7231 - val_loss: 0.5703 - val_acc: 0.7260\n",
            "Epoch 337/600\n",
            "35367/35367 [==============================] - 0s 3us/step - loss: 0.5719 - acc: 0.7231 - val_loss: 0.5702 - val_acc: 0.7260\n",
            "Epoch 338/600\n",
            "35367/35367 [==============================] - 0s 3us/step - loss: 0.5719 - acc: 0.7231 - val_loss: 0.5703 - val_acc: 0.7260\n",
            "Epoch 339/600\n",
            "35367/35367 [==============================] - 0s 3us/step - loss: 0.5719 - acc: 0.7231 - val_loss: 0.5703 - val_acc: 0.7260\n",
            "Epoch 340/600\n",
            "35367/35367 [==============================] - 0s 3us/step - loss: 0.5719 - acc: 0.7231 - val_loss: 0.5703 - val_acc: 0.7260\n",
            "Epoch 341/600\n",
            "35367/35367 [==============================] - 0s 3us/step - loss: 0.5719 - acc: 0.7231 - val_loss: 0.5703 - val_acc: 0.7260\n",
            "Epoch 342/600\n",
            "35367/35367 [==============================] - 0s 3us/step - loss: 0.5719 - acc: 0.7231 - val_loss: 0.5703 - val_acc: 0.7260\n",
            "Epoch 343/600\n",
            "35367/35367 [==============================] - 0s 3us/step - loss: 0.5719 - acc: 0.7231 - val_loss: 0.5703 - val_acc: 0.7260\n",
            "Epoch 344/600\n",
            "35367/35367 [==============================] - 0s 3us/step - loss: 0.5719 - acc: 0.7231 - val_loss: 0.5703 - val_acc: 0.7260\n",
            "Epoch 345/600\n",
            "35367/35367 [==============================] - 0s 3us/step - loss: 0.5719 - acc: 0.7231 - val_loss: 0.5703 - val_acc: 0.7260\n",
            "Epoch 346/600\n",
            "35367/35367 [==============================] - 0s 3us/step - loss: 0.5719 - acc: 0.7231 - val_loss: 0.5703 - val_acc: 0.7260\n",
            "Epoch 347/600\n",
            "35367/35367 [==============================] - 0s 3us/step - loss: 0.5719 - acc: 0.7231 - val_loss: 0.5702 - val_acc: 0.7260\n",
            "Epoch 348/600\n",
            "35367/35367 [==============================] - 0s 3us/step - loss: 0.5719 - acc: 0.7231 - val_loss: 0.5702 - val_acc: 0.7260\n",
            "Epoch 349/600\n",
            "35367/35367 [==============================] - 0s 3us/step - loss: 0.5719 - acc: 0.7231 - val_loss: 0.5703 - val_acc: 0.7260\n",
            "Epoch 350/600\n",
            "35367/35367 [==============================] - 0s 3us/step - loss: 0.5719 - acc: 0.7231 - val_loss: 0.5702 - val_acc: 0.7260\n",
            "Epoch 351/600\n",
            "35367/35367 [==============================] - 0s 3us/step - loss: 0.5719 - acc: 0.7231 - val_loss: 0.5702 - val_acc: 0.7260\n",
            "Epoch 352/600\n",
            "35367/35367 [==============================] - 0s 3us/step - loss: 0.5719 - acc: 0.7231 - val_loss: 0.5702 - val_acc: 0.7260\n",
            "Epoch 353/600\n",
            "35367/35367 [==============================] - 0s 3us/step - loss: 0.5719 - acc: 0.7231 - val_loss: 0.5702 - val_acc: 0.7260\n",
            "Epoch 354/600\n",
            "35367/35367 [==============================] - 0s 3us/step - loss: 0.5719 - acc: 0.7231 - val_loss: 0.5702 - val_acc: 0.7260\n",
            "Epoch 355/600\n",
            "35367/35367 [==============================] - 0s 3us/step - loss: 0.5719 - acc: 0.7231 - val_loss: 0.5702 - val_acc: 0.7260\n",
            "Epoch 356/600\n",
            "35367/35367 [==============================] - 0s 3us/step - loss: 0.5719 - acc: 0.7231 - val_loss: 0.5702 - val_acc: 0.7260\n",
            "Epoch 357/600\n",
            "35367/35367 [==============================] - 0s 3us/step - loss: 0.5719 - acc: 0.7231 - val_loss: 0.5703 - val_acc: 0.7260\n",
            "Epoch 358/600\n",
            "35367/35367 [==============================] - 0s 3us/step - loss: 0.5719 - acc: 0.7231 - val_loss: 0.5702 - val_acc: 0.7260\n",
            "Epoch 359/600\n",
            "35367/35367 [==============================] - 0s 3us/step - loss: 0.5719 - acc: 0.7231 - val_loss: 0.5701 - val_acc: 0.7260\n",
            "Epoch 360/600\n",
            "35367/35367 [==============================] - 0s 3us/step - loss: 0.5719 - acc: 0.7231 - val_loss: 0.5701 - val_acc: 0.7260\n",
            "Epoch 361/600\n",
            "35367/35367 [==============================] - 0s 3us/step - loss: 0.5719 - acc: 0.7231 - val_loss: 0.5702 - val_acc: 0.7260\n",
            "Epoch 362/600\n",
            "35367/35367 [==============================] - 0s 3us/step - loss: 0.5719 - acc: 0.7231 - val_loss: 0.5702 - val_acc: 0.7260\n",
            "Epoch 363/600\n",
            "35367/35367 [==============================] - 0s 3us/step - loss: 0.5719 - acc: 0.7231 - val_loss: 0.5703 - val_acc: 0.7260\n",
            "Epoch 364/600\n",
            "35367/35367 [==============================] - 0s 3us/step - loss: 0.5719 - acc: 0.7231 - val_loss: 0.5703 - val_acc: 0.7260\n",
            "Epoch 365/600\n",
            "35367/35367 [==============================] - 0s 3us/step - loss: 0.5719 - acc: 0.7231 - val_loss: 0.5703 - val_acc: 0.7260\n",
            "Epoch 366/600\n",
            "35367/35367 [==============================] - 0s 3us/step - loss: 0.5719 - acc: 0.7231 - val_loss: 0.5703 - val_acc: 0.7260\n",
            "Epoch 367/600\n",
            "35367/35367 [==============================] - 0s 3us/step - loss: 0.5719 - acc: 0.7231 - val_loss: 0.5703 - val_acc: 0.7260\n",
            "Epoch 368/600\n",
            "35367/35367 [==============================] - 0s 3us/step - loss: 0.5719 - acc: 0.7231 - val_loss: 0.5702 - val_acc: 0.7260\n",
            "Epoch 369/600\n",
            "35367/35367 [==============================] - 0s 3us/step - loss: 0.5719 - acc: 0.7231 - val_loss: 0.5702 - val_acc: 0.7260\n",
            "Epoch 370/600\n",
            "35367/35367 [==============================] - 0s 3us/step - loss: 0.5719 - acc: 0.7231 - val_loss: 0.5702 - val_acc: 0.7260\n",
            "Epoch 371/600\n",
            "35367/35367 [==============================] - 0s 3us/step - loss: 0.5719 - acc: 0.7231 - val_loss: 0.5702 - val_acc: 0.7260\n",
            "Epoch 372/600\n",
            "35367/35367 [==============================] - 0s 3us/step - loss: 0.5719 - acc: 0.7231 - val_loss: 0.5701 - val_acc: 0.7260\n",
            "Epoch 373/600\n",
            "35367/35367 [==============================] - 0s 3us/step - loss: 0.5719 - acc: 0.7231 - val_loss: 0.5702 - val_acc: 0.7260\n",
            "Epoch 374/600\n",
            "35367/35367 [==============================] - 0s 3us/step - loss: 0.5719 - acc: 0.7231 - val_loss: 0.5702 - val_acc: 0.7260\n",
            "Epoch 375/600\n",
            "35367/35367 [==============================] - 0s 3us/step - loss: 0.5719 - acc: 0.7231 - val_loss: 0.5702 - val_acc: 0.7260\n",
            "Epoch 376/600\n",
            "35367/35367 [==============================] - 0s 3us/step - loss: 0.5719 - acc: 0.7231 - val_loss: 0.5701 - val_acc: 0.7260\n",
            "Epoch 377/600\n",
            "35367/35367 [==============================] - 0s 3us/step - loss: 0.5719 - acc: 0.7231 - val_loss: 0.5701 - val_acc: 0.7260\n",
            "Epoch 378/600\n",
            "35367/35367 [==============================] - 0s 3us/step - loss: 0.5719 - acc: 0.7231 - val_loss: 0.5702 - val_acc: 0.7260\n",
            "Epoch 379/600\n",
            "35367/35367 [==============================] - 0s 3us/step - loss: 0.5719 - acc: 0.7231 - val_loss: 0.5701 - val_acc: 0.7260\n",
            "Epoch 380/600\n",
            "35367/35367 [==============================] - 0s 3us/step - loss: 0.5719 - acc: 0.7231 - val_loss: 0.5702 - val_acc: 0.7260\n",
            "Epoch 381/600\n",
            "35367/35367 [==============================] - 0s 3us/step - loss: 0.5719 - acc: 0.7231 - val_loss: 0.5702 - val_acc: 0.7260\n",
            "Epoch 382/600\n",
            "35367/35367 [==============================] - 0s 3us/step - loss: 0.5719 - acc: 0.7231 - val_loss: 0.5702 - val_acc: 0.7260\n",
            "Epoch 383/600\n",
            "35367/35367 [==============================] - 0s 3us/step - loss: 0.5719 - acc: 0.7231 - val_loss: 0.5701 - val_acc: 0.7260\n",
            "Epoch 384/600\n",
            "35367/35367 [==============================] - 0s 3us/step - loss: 0.5719 - acc: 0.7231 - val_loss: 0.5701 - val_acc: 0.7260\n",
            "Epoch 385/600\n",
            "35367/35367 [==============================] - 0s 3us/step - loss: 0.5719 - acc: 0.7231 - val_loss: 0.5701 - val_acc: 0.7260\n",
            "Epoch 386/600\n",
            "35367/35367 [==============================] - 0s 3us/step - loss: 0.5719 - acc: 0.7231 - val_loss: 0.5701 - val_acc: 0.7260\n",
            "Epoch 387/600\n",
            "35367/35367 [==============================] - 0s 3us/step - loss: 0.5719 - acc: 0.7231 - val_loss: 0.5701 - val_acc: 0.7260\n",
            "Epoch 388/600\n",
            "35367/35367 [==============================] - 0s 3us/step - loss: 0.5719 - acc: 0.7231 - val_loss: 0.5702 - val_acc: 0.7260\n",
            "Epoch 389/600\n",
            "35367/35367 [==============================] - 0s 3us/step - loss: 0.5719 - acc: 0.7231 - val_loss: 0.5701 - val_acc: 0.7260\n",
            "Epoch 390/600\n",
            "35367/35367 [==============================] - 0s 3us/step - loss: 0.5719 - acc: 0.7231 - val_loss: 0.5701 - val_acc: 0.7260\n",
            "Epoch 391/600\n",
            "35367/35367 [==============================] - 0s 3us/step - loss: 0.5719 - acc: 0.7231 - val_loss: 0.5702 - val_acc: 0.7260\n",
            "Epoch 392/600\n",
            "35367/35367 [==============================] - 0s 3us/step - loss: 0.5719 - acc: 0.7231 - val_loss: 0.5701 - val_acc: 0.7260\n",
            "Epoch 393/600\n",
            "35367/35367 [==============================] - 0s 3us/step - loss: 0.5719 - acc: 0.7231 - val_loss: 0.5700 - val_acc: 0.7260\n",
            "Epoch 394/600\n",
            "35367/35367 [==============================] - 0s 3us/step - loss: 0.5719 - acc: 0.7231 - val_loss: 0.5701 - val_acc: 0.7260\n",
            "Epoch 395/600\n",
            "35367/35367 [==============================] - 0s 3us/step - loss: 0.5719 - acc: 0.7231 - val_loss: 0.5701 - val_acc: 0.7260\n",
            "Epoch 396/600\n",
            "35367/35367 [==============================] - 0s 3us/step - loss: 0.5719 - acc: 0.7231 - val_loss: 0.5701 - val_acc: 0.7260\n",
            "Epoch 397/600\n",
            "35367/35367 [==============================] - 0s 3us/step - loss: 0.5719 - acc: 0.7231 - val_loss: 0.5701 - val_acc: 0.7260\n",
            "Epoch 398/600\n",
            "35367/35367 [==============================] - 0s 3us/step - loss: 0.5719 - acc: 0.7231 - val_loss: 0.5701 - val_acc: 0.7260\n",
            "Epoch 399/600\n",
            "35367/35367 [==============================] - 0s 3us/step - loss: 0.5719 - acc: 0.7231 - val_loss: 0.5701 - val_acc: 0.7260\n",
            "Epoch 400/600\n",
            "35367/35367 [==============================] - 0s 3us/step - loss: 0.5719 - acc: 0.7231 - val_loss: 0.5701 - val_acc: 0.7260\n",
            "Epoch 401/600\n",
            "35367/35367 [==============================] - 0s 3us/step - loss: 0.5719 - acc: 0.7231 - val_loss: 0.5702 - val_acc: 0.7260\n",
            "Epoch 402/600\n",
            "35367/35367 [==============================] - 0s 3us/step - loss: 0.5719 - acc: 0.7231 - val_loss: 0.5702 - val_acc: 0.7260\n",
            "Epoch 403/600\n",
            "35367/35367 [==============================] - 0s 3us/step - loss: 0.5719 - acc: 0.7231 - val_loss: 0.5701 - val_acc: 0.7260\n",
            "Epoch 404/600\n",
            "35367/35367 [==============================] - 0s 3us/step - loss: 0.5719 - acc: 0.7231 - val_loss: 0.5701 - val_acc: 0.7260\n",
            "Epoch 405/600\n",
            "35367/35367 [==============================] - 0s 3us/step - loss: 0.5719 - acc: 0.7231 - val_loss: 0.5702 - val_acc: 0.7260\n",
            "Epoch 406/600\n",
            "35367/35367 [==============================] - 0s 3us/step - loss: 0.5719 - acc: 0.7231 - val_loss: 0.5702 - val_acc: 0.7260\n",
            "Epoch 407/600\n",
            "35367/35367 [==============================] - 0s 3us/step - loss: 0.5719 - acc: 0.7231 - val_loss: 0.5702 - val_acc: 0.7260\n",
            "Epoch 408/600\n",
            "35367/35367 [==============================] - 0s 3us/step - loss: 0.5719 - acc: 0.7231 - val_loss: 0.5702 - val_acc: 0.7260\n",
            "Epoch 409/600\n",
            "35367/35367 [==============================] - 0s 3us/step - loss: 0.5718 - acc: 0.7231 - val_loss: 0.5701 - val_acc: 0.7260\n",
            "Epoch 410/600\n",
            "35367/35367 [==============================] - 0s 3us/step - loss: 0.5719 - acc: 0.7231 - val_loss: 0.5701 - val_acc: 0.7260\n",
            "Epoch 411/600\n",
            "35367/35367 [==============================] - 0s 3us/step - loss: 0.5719 - acc: 0.7231 - val_loss: 0.5701 - val_acc: 0.7260\n",
            "Epoch 412/600\n",
            "35367/35367 [==============================] - 0s 3us/step - loss: 0.5719 - acc: 0.7231 - val_loss: 0.5702 - val_acc: 0.7260\n",
            "Epoch 413/600\n",
            "35367/35367 [==============================] - 0s 3us/step - loss: 0.5719 - acc: 0.7231 - val_loss: 0.5702 - val_acc: 0.7260\n",
            "Epoch 414/600\n",
            "35367/35367 [==============================] - 0s 3us/step - loss: 0.5719 - acc: 0.7231 - val_loss: 0.5702 - val_acc: 0.7260\n",
            "Epoch 415/600\n",
            "35367/35367 [==============================] - 0s 3us/step - loss: 0.5718 - acc: 0.7231 - val_loss: 0.5702 - val_acc: 0.7260\n",
            "Epoch 416/600\n",
            "35367/35367 [==============================] - 0s 3us/step - loss: 0.5719 - acc: 0.7231 - val_loss: 0.5702 - val_acc: 0.7260\n",
            "Epoch 417/600\n",
            "35367/35367 [==============================] - 0s 3us/step - loss: 0.5719 - acc: 0.7231 - val_loss: 0.5701 - val_acc: 0.7260\n",
            "Epoch 418/600\n",
            "35367/35367 [==============================] - 0s 3us/step - loss: 0.5719 - acc: 0.7231 - val_loss: 0.5702 - val_acc: 0.7260\n",
            "Epoch 419/600\n",
            "35367/35367 [==============================] - 0s 3us/step - loss: 0.5719 - acc: 0.7231 - val_loss: 0.5702 - val_acc: 0.7260\n",
            "Epoch 420/600\n",
            "35367/35367 [==============================] - 0s 3us/step - loss: 0.5719 - acc: 0.7231 - val_loss: 0.5702 - val_acc: 0.7260\n",
            "Epoch 421/600\n",
            "35367/35367 [==============================] - 0s 3us/step - loss: 0.5719 - acc: 0.7231 - val_loss: 0.5702 - val_acc: 0.7260\n",
            "Epoch 422/600\n",
            "35367/35367 [==============================] - 0s 3us/step - loss: 0.5719 - acc: 0.7231 - val_loss: 0.5702 - val_acc: 0.7260\n",
            "Epoch 423/600\n",
            "35367/35367 [==============================] - 0s 3us/step - loss: 0.5719 - acc: 0.7231 - val_loss: 0.5702 - val_acc: 0.7260\n",
            "Epoch 424/600\n",
            "35367/35367 [==============================] - 0s 3us/step - loss: 0.5719 - acc: 0.7231 - val_loss: 0.5703 - val_acc: 0.7260\n",
            "Epoch 425/600\n",
            "35367/35367 [==============================] - 0s 3us/step - loss: 0.5719 - acc: 0.7231 - val_loss: 0.5701 - val_acc: 0.7260\n",
            "Epoch 426/600\n",
            "35367/35367 [==============================] - 0s 3us/step - loss: 0.5719 - acc: 0.7231 - val_loss: 0.5702 - val_acc: 0.7260\n",
            "Epoch 427/600\n",
            "35367/35367 [==============================] - 0s 3us/step - loss: 0.5719 - acc: 0.7231 - val_loss: 0.5703 - val_acc: 0.7260\n",
            "Epoch 428/600\n",
            "35367/35367 [==============================] - 0s 3us/step - loss: 0.5719 - acc: 0.7231 - val_loss: 0.5702 - val_acc: 0.7260\n",
            "Epoch 429/600\n",
            "35367/35367 [==============================] - 0s 3us/step - loss: 0.5719 - acc: 0.7231 - val_loss: 0.5702 - val_acc: 0.7260\n",
            "Epoch 430/600\n",
            "35367/35367 [==============================] - 0s 3us/step - loss: 0.5719 - acc: 0.7231 - val_loss: 0.5702 - val_acc: 0.7260\n",
            "Epoch 431/600\n",
            "35367/35367 [==============================] - 0s 3us/step - loss: 0.5719 - acc: 0.7231 - val_loss: 0.5701 - val_acc: 0.7260\n",
            "Epoch 432/600\n",
            "35367/35367 [==============================] - 0s 3us/step - loss: 0.5719 - acc: 0.7231 - val_loss: 0.5701 - val_acc: 0.7260\n",
            "Epoch 433/600\n",
            "35367/35367 [==============================] - 0s 3us/step - loss: 0.5719 - acc: 0.7231 - val_loss: 0.5702 - val_acc: 0.7260\n",
            "Epoch 434/600\n",
            "35367/35367 [==============================] - 0s 3us/step - loss: 0.5719 - acc: 0.7231 - val_loss: 0.5702 - val_acc: 0.7260\n",
            "Epoch 435/600\n",
            "35367/35367 [==============================] - 0s 3us/step - loss: 0.5719 - acc: 0.7231 - val_loss: 0.5702 - val_acc: 0.7260\n",
            "Epoch 436/600\n",
            "35367/35367 [==============================] - 0s 3us/step - loss: 0.5719 - acc: 0.7231 - val_loss: 0.5701 - val_acc: 0.7260\n",
            "Epoch 437/600\n",
            "35367/35367 [==============================] - 0s 3us/step - loss: 0.5719 - acc: 0.7231 - val_loss: 0.5702 - val_acc: 0.7260\n",
            "Epoch 438/600\n",
            "35367/35367 [==============================] - 0s 3us/step - loss: 0.5719 - acc: 0.7231 - val_loss: 0.5703 - val_acc: 0.7260\n",
            "Epoch 439/600\n",
            "35367/35367 [==============================] - 0s 3us/step - loss: 0.5719 - acc: 0.7231 - val_loss: 0.5702 - val_acc: 0.7260\n",
            "Epoch 440/600\n",
            "35367/35367 [==============================] - 0s 3us/step - loss: 0.5718 - acc: 0.7231 - val_loss: 0.5702 - val_acc: 0.7260\n",
            "Epoch 441/600\n",
            "35367/35367 [==============================] - 0s 3us/step - loss: 0.5719 - acc: 0.7231 - val_loss: 0.5701 - val_acc: 0.7260\n",
            "Epoch 442/600\n",
            "35367/35367 [==============================] - 0s 3us/step - loss: 0.5719 - acc: 0.7231 - val_loss: 0.5701 - val_acc: 0.7260\n",
            "Epoch 443/600\n",
            "35367/35367 [==============================] - 0s 3us/step - loss: 0.5719 - acc: 0.7231 - val_loss: 0.5701 - val_acc: 0.7260\n",
            "Epoch 444/600\n",
            "35367/35367 [==============================] - 0s 3us/step - loss: 0.5719 - acc: 0.7231 - val_loss: 0.5701 - val_acc: 0.7260\n",
            "Epoch 445/600\n",
            "35367/35367 [==============================] - 0s 3us/step - loss: 0.5719 - acc: 0.7231 - val_loss: 0.5701 - val_acc: 0.7260\n",
            "Epoch 446/600\n",
            "35367/35367 [==============================] - 0s 3us/step - loss: 0.5719 - acc: 0.7231 - val_loss: 0.5701 - val_acc: 0.7260\n",
            "Epoch 447/600\n",
            "35367/35367 [==============================] - 0s 3us/step - loss: 0.5718 - acc: 0.7231 - val_loss: 0.5703 - val_acc: 0.7260\n",
            "Epoch 448/600\n",
            "35367/35367 [==============================] - 0s 3us/step - loss: 0.5719 - acc: 0.7231 - val_loss: 0.5701 - val_acc: 0.7260\n",
            "Epoch 449/600\n",
            "35367/35367 [==============================] - 0s 3us/step - loss: 0.5719 - acc: 0.7231 - val_loss: 0.5701 - val_acc: 0.7260\n",
            "Epoch 450/600\n",
            "35367/35367 [==============================] - 0s 3us/step - loss: 0.5719 - acc: 0.7231 - val_loss: 0.5701 - val_acc: 0.7260\n",
            "Epoch 451/600\n",
            "35367/35367 [==============================] - 0s 3us/step - loss: 0.5719 - acc: 0.7231 - val_loss: 0.5700 - val_acc: 0.7260\n",
            "Epoch 452/600\n",
            "35367/35367 [==============================] - 0s 3us/step - loss: 0.5719 - acc: 0.7231 - val_loss: 0.5701 - val_acc: 0.7260\n",
            "Epoch 453/600\n",
            "35367/35367 [==============================] - 0s 3us/step - loss: 0.5718 - acc: 0.7231 - val_loss: 0.5701 - val_acc: 0.7260\n",
            "Epoch 454/600\n",
            "35367/35367 [==============================] - 0s 3us/step - loss: 0.5719 - acc: 0.7231 - val_loss: 0.5701 - val_acc: 0.7260\n",
            "Epoch 455/600\n",
            "35367/35367 [==============================] - 0s 3us/step - loss: 0.5719 - acc: 0.7231 - val_loss: 0.5701 - val_acc: 0.7260\n",
            "Epoch 456/600\n",
            "35367/35367 [==============================] - 0s 3us/step - loss: 0.5719 - acc: 0.7231 - val_loss: 0.5701 - val_acc: 0.7260\n",
            "Epoch 457/600\n",
            "35367/35367 [==============================] - 0s 3us/step - loss: 0.5719 - acc: 0.7231 - val_loss: 0.5702 - val_acc: 0.7260\n",
            "Epoch 458/600\n",
            "35367/35367 [==============================] - 0s 3us/step - loss: 0.5719 - acc: 0.7231 - val_loss: 0.5701 - val_acc: 0.7260\n",
            "Epoch 459/600\n",
            "35367/35367 [==============================] - 0s 3us/step - loss: 0.5719 - acc: 0.7231 - val_loss: 0.5701 - val_acc: 0.7260\n",
            "Epoch 460/600\n",
            "35367/35367 [==============================] - 0s 3us/step - loss: 0.5719 - acc: 0.7231 - val_loss: 0.5701 - val_acc: 0.7260\n",
            "Epoch 461/600\n",
            "35367/35367 [==============================] - 0s 3us/step - loss: 0.5719 - acc: 0.7231 - val_loss: 0.5701 - val_acc: 0.7260\n",
            "Epoch 462/600\n",
            "35367/35367 [==============================] - 0s 3us/step - loss: 0.5719 - acc: 0.7231 - val_loss: 0.5701 - val_acc: 0.7260\n",
            "Epoch 463/600\n",
            "35367/35367 [==============================] - 0s 3us/step - loss: 0.5718 - acc: 0.7231 - val_loss: 0.5701 - val_acc: 0.7260\n",
            "Epoch 464/600\n",
            "35367/35367 [==============================] - 0s 3us/step - loss: 0.5719 - acc: 0.7231 - val_loss: 0.5701 - val_acc: 0.7260\n",
            "Epoch 465/600\n",
            "35367/35367 [==============================] - 0s 3us/step - loss: 0.5719 - acc: 0.7231 - val_loss: 0.5700 - val_acc: 0.7260\n",
            "Epoch 466/600\n",
            "35367/35367 [==============================] - 0s 3us/step - loss: 0.5719 - acc: 0.7231 - val_loss: 0.5701 - val_acc: 0.7260\n",
            "Epoch 467/600\n",
            "35367/35367 [==============================] - 0s 3us/step - loss: 0.5719 - acc: 0.7231 - val_loss: 0.5701 - val_acc: 0.7260\n",
            "Epoch 468/600\n",
            "35367/35367 [==============================] - 0s 3us/step - loss: 0.5719 - acc: 0.7231 - val_loss: 0.5700 - val_acc: 0.7260\n",
            "Epoch 469/600\n",
            "35367/35367 [==============================] - 0s 3us/step - loss: 0.5719 - acc: 0.7231 - val_loss: 0.5701 - val_acc: 0.7260\n",
            "Epoch 470/600\n",
            "35367/35367 [==============================] - 0s 3us/step - loss: 0.5719 - acc: 0.7231 - val_loss: 0.5700 - val_acc: 0.7260\n",
            "Epoch 471/600\n",
            "35367/35367 [==============================] - 0s 3us/step - loss: 0.5719 - acc: 0.7231 - val_loss: 0.5700 - val_acc: 0.7260\n",
            "Epoch 472/600\n",
            "35367/35367 [==============================] - 0s 3us/step - loss: 0.5719 - acc: 0.7231 - val_loss: 0.5700 - val_acc: 0.7260\n",
            "Epoch 473/600\n",
            "35367/35367 [==============================] - 0s 3us/step - loss: 0.5719 - acc: 0.7231 - val_loss: 0.5700 - val_acc: 0.7260\n",
            "Epoch 474/600\n",
            "35367/35367 [==============================] - 0s 3us/step - loss: 0.5719 - acc: 0.7231 - val_loss: 0.5700 - val_acc: 0.7260\n",
            "Epoch 475/600\n",
            "35367/35367 [==============================] - 0s 3us/step - loss: 0.5719 - acc: 0.7231 - val_loss: 0.5701 - val_acc: 0.7260\n",
            "Epoch 476/600\n",
            "35367/35367 [==============================] - 0s 3us/step - loss: 0.5719 - acc: 0.7231 - val_loss: 0.5702 - val_acc: 0.7260\n",
            "Epoch 477/600\n",
            "35367/35367 [==============================] - 0s 3us/step - loss: 0.5719 - acc: 0.7231 - val_loss: 0.5701 - val_acc: 0.7260\n",
            "Epoch 478/600\n",
            "35367/35367 [==============================] - 0s 3us/step - loss: 0.5719 - acc: 0.7231 - val_loss: 0.5701 - val_acc: 0.7260\n",
            "Epoch 479/600\n",
            "35367/35367 [==============================] - 0s 3us/step - loss: 0.5719 - acc: 0.7231 - val_loss: 0.5701 - val_acc: 0.7260\n",
            "Epoch 480/600\n",
            "35367/35367 [==============================] - 0s 3us/step - loss: 0.5718 - acc: 0.7231 - val_loss: 0.5702 - val_acc: 0.7260\n",
            "Epoch 481/600\n",
            "35367/35367 [==============================] - 0s 3us/step - loss: 0.5719 - acc: 0.7231 - val_loss: 0.5701 - val_acc: 0.7260\n",
            "Epoch 482/600\n",
            "35367/35367 [==============================] - 0s 3us/step - loss: 0.5719 - acc: 0.7231 - val_loss: 0.5700 - val_acc: 0.7260\n",
            "Epoch 483/600\n",
            "35367/35367 [==============================] - 0s 3us/step - loss: 0.5719 - acc: 0.7231 - val_loss: 0.5700 - val_acc: 0.7260\n",
            "Epoch 484/600\n",
            "35367/35367 [==============================] - 0s 3us/step - loss: 0.5719 - acc: 0.7231 - val_loss: 0.5700 - val_acc: 0.7260\n",
            "Epoch 485/600\n",
            "35367/35367 [==============================] - 0s 3us/step - loss: 0.5719 - acc: 0.7231 - val_loss: 0.5701 - val_acc: 0.7260\n",
            "Epoch 486/600\n",
            "35367/35367 [==============================] - 0s 3us/step - loss: 0.5719 - acc: 0.7231 - val_loss: 0.5701 - val_acc: 0.7260\n",
            "Epoch 487/600\n",
            "35367/35367 [==============================] - 0s 3us/step - loss: 0.5719 - acc: 0.7231 - val_loss: 0.5700 - val_acc: 0.7260\n",
            "Epoch 488/600\n",
            "35367/35367 [==============================] - 0s 3us/step - loss: 0.5719 - acc: 0.7231 - val_loss: 0.5700 - val_acc: 0.7260\n",
            "Epoch 489/600\n",
            "35367/35367 [==============================] - 0s 3us/step - loss: 0.5718 - acc: 0.7231 - val_loss: 0.5701 - val_acc: 0.7260\n",
            "Epoch 490/600\n",
            "35367/35367 [==============================] - 0s 3us/step - loss: 0.5719 - acc: 0.7231 - val_loss: 0.5700 - val_acc: 0.7260\n",
            "Epoch 491/600\n",
            "35367/35367 [==============================] - 0s 3us/step - loss: 0.5719 - acc: 0.7231 - val_loss: 0.5701 - val_acc: 0.7260\n",
            "Epoch 492/600\n",
            "35367/35367 [==============================] - 0s 3us/step - loss: 0.5719 - acc: 0.7231 - val_loss: 0.5701 - val_acc: 0.7260\n",
            "Epoch 493/600\n",
            "35367/35367 [==============================] - 0s 3us/step - loss: 0.5719 - acc: 0.7231 - val_loss: 0.5701 - val_acc: 0.7260\n",
            "Epoch 494/600\n",
            "35367/35367 [==============================] - 0s 3us/step - loss: 0.5719 - acc: 0.7231 - val_loss: 0.5700 - val_acc: 0.7260\n",
            "Epoch 495/600\n",
            "35367/35367 [==============================] - 0s 3us/step - loss: 0.5719 - acc: 0.7231 - val_loss: 0.5702 - val_acc: 0.7260\n",
            "Epoch 496/600\n",
            "35367/35367 [==============================] - 0s 3us/step - loss: 0.5719 - acc: 0.7231 - val_loss: 0.5701 - val_acc: 0.7260\n",
            "Epoch 497/600\n",
            "35367/35367 [==============================] - 0s 3us/step - loss: 0.5719 - acc: 0.7231 - val_loss: 0.5701 - val_acc: 0.7260\n",
            "Epoch 498/600\n",
            "35367/35367 [==============================] - 0s 3us/step - loss: 0.5718 - acc: 0.7231 - val_loss: 0.5701 - val_acc: 0.7260\n",
            "Epoch 499/600\n",
            "35367/35367 [==============================] - 0s 3us/step - loss: 0.5719 - acc: 0.7231 - val_loss: 0.5701 - val_acc: 0.7260\n",
            "Epoch 500/600\n",
            "35367/35367 [==============================] - 0s 3us/step - loss: 0.5719 - acc: 0.7231 - val_loss: 0.5700 - val_acc: 0.7260\n",
            "Epoch 501/600\n",
            "35367/35367 [==============================] - 0s 3us/step - loss: 0.5719 - acc: 0.7231 - val_loss: 0.5700 - val_acc: 0.7260\n",
            "Epoch 502/600\n",
            "35367/35367 [==============================] - 0s 3us/step - loss: 0.5719 - acc: 0.7231 - val_loss: 0.5701 - val_acc: 0.7260\n",
            "Epoch 503/600\n",
            "35367/35367 [==============================] - 0s 3us/step - loss: 0.5719 - acc: 0.7231 - val_loss: 0.5701 - val_acc: 0.7260\n",
            "Epoch 504/600\n",
            "35367/35367 [==============================] - 0s 3us/step - loss: 0.5719 - acc: 0.7231 - val_loss: 0.5701 - val_acc: 0.7260\n",
            "Epoch 505/600\n",
            "35367/35367 [==============================] - 0s 3us/step - loss: 0.5719 - acc: 0.7231 - val_loss: 0.5700 - val_acc: 0.7260\n",
            "Epoch 506/600\n",
            "35367/35367 [==============================] - 0s 3us/step - loss: 0.5719 - acc: 0.7231 - val_loss: 0.5700 - val_acc: 0.7260\n",
            "Epoch 507/600\n",
            "35367/35367 [==============================] - 0s 3us/step - loss: 0.5719 - acc: 0.7231 - val_loss: 0.5700 - val_acc: 0.7260\n",
            "Epoch 508/600\n",
            "35367/35367 [==============================] - 0s 3us/step - loss: 0.5719 - acc: 0.7231 - val_loss: 0.5700 - val_acc: 0.7260\n",
            "Epoch 509/600\n",
            "35367/35367 [==============================] - 0s 3us/step - loss: 0.5719 - acc: 0.7231 - val_loss: 0.5700 - val_acc: 0.7260\n",
            "Epoch 510/600\n",
            "35367/35367 [==============================] - 0s 3us/step - loss: 0.5719 - acc: 0.7231 - val_loss: 0.5700 - val_acc: 0.7260\n",
            "Epoch 511/600\n",
            "35367/35367 [==============================] - 0s 3us/step - loss: 0.5719 - acc: 0.7231 - val_loss: 0.5700 - val_acc: 0.7260\n",
            "Epoch 512/600\n",
            "35367/35367 [==============================] - 0s 3us/step - loss: 0.5719 - acc: 0.7231 - val_loss: 0.5700 - val_acc: 0.7260\n",
            "Epoch 513/600\n",
            "35367/35367 [==============================] - 0s 3us/step - loss: 0.5719 - acc: 0.7231 - val_loss: 0.5700 - val_acc: 0.7260\n",
            "Epoch 514/600\n",
            "35367/35367 [==============================] - 0s 3us/step - loss: 0.5719 - acc: 0.7231 - val_loss: 0.5700 - val_acc: 0.7260\n",
            "Epoch 515/600\n",
            "35367/35367 [==============================] - 0s 3us/step - loss: 0.5719 - acc: 0.7231 - val_loss: 0.5700 - val_acc: 0.7260\n",
            "Epoch 516/600\n",
            "35367/35367 [==============================] - 0s 3us/step - loss: 0.5718 - acc: 0.7231 - val_loss: 0.5700 - val_acc: 0.7260\n",
            "Epoch 517/600\n",
            "35367/35367 [==============================] - 0s 3us/step - loss: 0.5719 - acc: 0.7231 - val_loss: 0.5700 - val_acc: 0.7260\n",
            "Epoch 518/600\n",
            "35367/35367 [==============================] - 0s 3us/step - loss: 0.5719 - acc: 0.7231 - val_loss: 0.5700 - val_acc: 0.7260\n",
            "Epoch 519/600\n",
            "35367/35367 [==============================] - 0s 3us/step - loss: 0.5719 - acc: 0.7231 - val_loss: 0.5702 - val_acc: 0.7260\n",
            "Epoch 520/600\n",
            "35367/35367 [==============================] - 0s 3us/step - loss: 0.5719 - acc: 0.7231 - val_loss: 0.5700 - val_acc: 0.7260\n",
            "Epoch 521/600\n",
            "35367/35367 [==============================] - 0s 3us/step - loss: 0.5719 - acc: 0.7231 - val_loss: 0.5700 - val_acc: 0.7260\n",
            "Epoch 522/600\n",
            "35367/35367 [==============================] - 0s 3us/step - loss: 0.5719 - acc: 0.7231 - val_loss: 0.5701 - val_acc: 0.7260\n",
            "Epoch 523/600\n",
            "35367/35367 [==============================] - 0s 3us/step - loss: 0.5719 - acc: 0.7231 - val_loss: 0.5700 - val_acc: 0.7260\n",
            "Epoch 524/600\n",
            "35367/35367 [==============================] - 0s 3us/step - loss: 0.5719 - acc: 0.7231 - val_loss: 0.5700 - val_acc: 0.7260\n",
            "Epoch 525/600\n",
            "35367/35367 [==============================] - 0s 3us/step - loss: 0.5718 - acc: 0.7231 - val_loss: 0.5700 - val_acc: 0.7260\n",
            "Epoch 526/600\n",
            "35367/35367 [==============================] - 0s 3us/step - loss: 0.5718 - acc: 0.7231 - val_loss: 0.5701 - val_acc: 0.7260\n",
            "Epoch 527/600\n",
            "35367/35367 [==============================] - 0s 3us/step - loss: 0.5719 - acc: 0.7231 - val_loss: 0.5701 - val_acc: 0.7260\n",
            "Epoch 528/600\n",
            "35367/35367 [==============================] - 0s 3us/step - loss: 0.5719 - acc: 0.7231 - val_loss: 0.5701 - val_acc: 0.7260\n",
            "Epoch 529/600\n",
            "35367/35367 [==============================] - 0s 3us/step - loss: 0.5719 - acc: 0.7231 - val_loss: 0.5700 - val_acc: 0.7260\n",
            "Epoch 530/600\n",
            "35367/35367 [==============================] - 0s 3us/step - loss: 0.5719 - acc: 0.7231 - val_loss: 0.5701 - val_acc: 0.7260\n",
            "Epoch 531/600\n",
            "35367/35367 [==============================] - 0s 3us/step - loss: 0.5719 - acc: 0.7231 - val_loss: 0.5700 - val_acc: 0.7260\n",
            "Epoch 532/600\n",
            "35367/35367 [==============================] - 0s 3us/step - loss: 0.5719 - acc: 0.7231 - val_loss: 0.5700 - val_acc: 0.7260\n",
            "Epoch 533/600\n",
            "35367/35367 [==============================] - 0s 3us/step - loss: 0.5719 - acc: 0.7231 - val_loss: 0.5700 - val_acc: 0.7260\n",
            "Epoch 534/600\n",
            "35367/35367 [==============================] - 0s 3us/step - loss: 0.5719 - acc: 0.7231 - val_loss: 0.5700 - val_acc: 0.7260\n",
            "Epoch 535/600\n",
            "35367/35367 [==============================] - 0s 3us/step - loss: 0.5718 - acc: 0.7231 - val_loss: 0.5699 - val_acc: 0.7260\n",
            "Epoch 536/600\n",
            "35367/35367 [==============================] - 0s 3us/step - loss: 0.5719 - acc: 0.7231 - val_loss: 0.5699 - val_acc: 0.7260\n",
            "Epoch 537/600\n",
            "35367/35367 [==============================] - 0s 3us/step - loss: 0.5719 - acc: 0.7231 - val_loss: 0.5700 - val_acc: 0.7260\n",
            "Epoch 538/600\n",
            "35367/35367 [==============================] - 0s 3us/step - loss: 0.5719 - acc: 0.7231 - val_loss: 0.5699 - val_acc: 0.7260\n",
            "Epoch 539/600\n",
            "35367/35367 [==============================] - 0s 3us/step - loss: 0.5718 - acc: 0.7231 - val_loss: 0.5699 - val_acc: 0.7260\n",
            "Epoch 540/600\n",
            "35367/35367 [==============================] - 0s 3us/step - loss: 0.5719 - acc: 0.7231 - val_loss: 0.5700 - val_acc: 0.7260\n",
            "Epoch 541/600\n",
            "35367/35367 [==============================] - 0s 3us/step - loss: 0.5719 - acc: 0.7231 - val_loss: 0.5699 - val_acc: 0.7260\n",
            "Epoch 542/600\n",
            "35367/35367 [==============================] - 0s 3us/step - loss: 0.5719 - acc: 0.7231 - val_loss: 0.5699 - val_acc: 0.7260\n",
            "Epoch 543/600\n",
            "35367/35367 [==============================] - 0s 3us/step - loss: 0.5718 - acc: 0.7231 - val_loss: 0.5700 - val_acc: 0.7260\n",
            "Epoch 544/600\n",
            "35367/35367 [==============================] - 0s 3us/step - loss: 0.5718 - acc: 0.7231 - val_loss: 0.5700 - val_acc: 0.7260\n",
            "Epoch 545/600\n",
            "35367/35367 [==============================] - 0s 3us/step - loss: 0.5718 - acc: 0.7231 - val_loss: 0.5699 - val_acc: 0.7260\n",
            "Epoch 546/600\n",
            "35367/35367 [==============================] - 0s 3us/step - loss: 0.5718 - acc: 0.7231 - val_loss: 0.5699 - val_acc: 0.7260\n",
            "Epoch 547/600\n",
            "35367/35367 [==============================] - 0s 3us/step - loss: 0.5719 - acc: 0.7231 - val_loss: 0.5700 - val_acc: 0.7260\n",
            "Epoch 548/600\n",
            "35367/35367 [==============================] - 0s 3us/step - loss: 0.5719 - acc: 0.7231 - val_loss: 0.5700 - val_acc: 0.7260\n",
            "Epoch 549/600\n",
            "35367/35367 [==============================] - 0s 3us/step - loss: 0.5719 - acc: 0.7231 - val_loss: 0.5700 - val_acc: 0.7260\n",
            "Epoch 550/600\n",
            "35367/35367 [==============================] - 0s 3us/step - loss: 0.5718 - acc: 0.7231 - val_loss: 0.5701 - val_acc: 0.7260\n",
            "Epoch 551/600\n",
            "35367/35367 [==============================] - 0s 3us/step - loss: 0.5719 - acc: 0.7231 - val_loss: 0.5699 - val_acc: 0.7260\n",
            "Epoch 552/600\n",
            "35367/35367 [==============================] - 0s 3us/step - loss: 0.5718 - acc: 0.7231 - val_loss: 0.5700 - val_acc: 0.7260\n",
            "Epoch 553/600\n",
            "35367/35367 [==============================] - 0s 3us/step - loss: 0.5719 - acc: 0.7231 - val_loss: 0.5700 - val_acc: 0.7260\n",
            "Epoch 554/600\n",
            "35367/35367 [==============================] - 0s 3us/step - loss: 0.5718 - acc: 0.7231 - val_loss: 0.5700 - val_acc: 0.7260\n",
            "Epoch 555/600\n",
            "35367/35367 [==============================] - 0s 3us/step - loss: 0.5719 - acc: 0.7231 - val_loss: 0.5700 - val_acc: 0.7260\n",
            "Epoch 556/600\n",
            "35367/35367 [==============================] - 0s 3us/step - loss: 0.5718 - acc: 0.7231 - val_loss: 0.5701 - val_acc: 0.7260\n",
            "Epoch 557/600\n",
            "35367/35367 [==============================] - 0s 3us/step - loss: 0.5718 - acc: 0.7231 - val_loss: 0.5700 - val_acc: 0.7260\n",
            "Epoch 558/600\n",
            "35367/35367 [==============================] - 0s 3us/step - loss: 0.5719 - acc: 0.7231 - val_loss: 0.5700 - val_acc: 0.7260\n",
            "Epoch 559/600\n",
            "35367/35367 [==============================] - 0s 3us/step - loss: 0.5719 - acc: 0.7231 - val_loss: 0.5700 - val_acc: 0.7260\n",
            "Epoch 560/600\n",
            "35367/35367 [==============================] - 0s 3us/step - loss: 0.5718 - acc: 0.7231 - val_loss: 0.5700 - val_acc: 0.7260\n",
            "Epoch 561/600\n",
            "35367/35367 [==============================] - 0s 3us/step - loss: 0.5719 - acc: 0.7231 - val_loss: 0.5701 - val_acc: 0.7260\n",
            "Epoch 562/600\n",
            "35367/35367 [==============================] - 0s 3us/step - loss: 0.5718 - acc: 0.7231 - val_loss: 0.5700 - val_acc: 0.7260\n",
            "Epoch 563/600\n",
            "35367/35367 [==============================] - 0s 3us/step - loss: 0.5719 - acc: 0.7231 - val_loss: 0.5699 - val_acc: 0.7260\n",
            "Epoch 564/600\n",
            "35367/35367 [==============================] - 0s 3us/step - loss: 0.5718 - acc: 0.7231 - val_loss: 0.5700 - val_acc: 0.7260\n",
            "Epoch 565/600\n",
            "35367/35367 [==============================] - 0s 3us/step - loss: 0.5718 - acc: 0.7231 - val_loss: 0.5699 - val_acc: 0.7260\n",
            "Epoch 566/600\n",
            "35367/35367 [==============================] - 0s 3us/step - loss: 0.5718 - acc: 0.7231 - val_loss: 0.5699 - val_acc: 0.7260\n",
            "Epoch 567/600\n",
            "35367/35367 [==============================] - 0s 3us/step - loss: 0.5718 - acc: 0.7231 - val_loss: 0.5699 - val_acc: 0.7260\n",
            "Epoch 568/600\n",
            "35367/35367 [==============================] - 0s 3us/step - loss: 0.5719 - acc: 0.7231 - val_loss: 0.5699 - val_acc: 0.7260\n",
            "Epoch 569/600\n",
            "35367/35367 [==============================] - 0s 3us/step - loss: 0.5718 - acc: 0.7231 - val_loss: 0.5699 - val_acc: 0.7260\n",
            "Epoch 570/600\n",
            "35367/35367 [==============================] - 0s 3us/step - loss: 0.5719 - acc: 0.7231 - val_loss: 0.5700 - val_acc: 0.7260\n",
            "Epoch 571/600\n",
            "35367/35367 [==============================] - 0s 3us/step - loss: 0.5718 - acc: 0.7231 - val_loss: 0.5700 - val_acc: 0.7260\n",
            "Epoch 572/600\n",
            "35367/35367 [==============================] - 0s 3us/step - loss: 0.5719 - acc: 0.7231 - val_loss: 0.5700 - val_acc: 0.7260\n",
            "Epoch 573/600\n",
            "35367/35367 [==============================] - 0s 3us/step - loss: 0.5718 - acc: 0.7231 - val_loss: 0.5700 - val_acc: 0.7260\n",
            "Epoch 574/600\n",
            "35367/35367 [==============================] - 0s 3us/step - loss: 0.5719 - acc: 0.7231 - val_loss: 0.5700 - val_acc: 0.7260\n",
            "Epoch 575/600\n",
            "35367/35367 [==============================] - 0s 3us/step - loss: 0.5718 - acc: 0.7231 - val_loss: 0.5701 - val_acc: 0.7260\n",
            "Epoch 576/600\n",
            "35367/35367 [==============================] - 0s 3us/step - loss: 0.5718 - acc: 0.7231 - val_loss: 0.5702 - val_acc: 0.7260\n",
            "Epoch 577/600\n",
            "35367/35367 [==============================] - 0s 3us/step - loss: 0.5719 - acc: 0.7231 - val_loss: 0.5701 - val_acc: 0.7260\n",
            "Epoch 578/600\n",
            "35367/35367 [==============================] - 0s 3us/step - loss: 0.5718 - acc: 0.7231 - val_loss: 0.5701 - val_acc: 0.7260\n",
            "Epoch 579/600\n",
            "35367/35367 [==============================] - 0s 3us/step - loss: 0.5718 - acc: 0.7231 - val_loss: 0.5700 - val_acc: 0.7260\n",
            "Epoch 580/600\n",
            "35367/35367 [==============================] - 0s 3us/step - loss: 0.5718 - acc: 0.7231 - val_loss: 0.5700 - val_acc: 0.7260\n",
            "Epoch 581/600\n",
            "35367/35367 [==============================] - 0s 3us/step - loss: 0.5718 - acc: 0.7231 - val_loss: 0.5699 - val_acc: 0.7260\n",
            "Epoch 582/600\n",
            "35367/35367 [==============================] - 0s 3us/step - loss: 0.5719 - acc: 0.7231 - val_loss: 0.5700 - val_acc: 0.7260\n",
            "Epoch 583/600\n",
            "35367/35367 [==============================] - 0s 3us/step - loss: 0.5718 - acc: 0.7231 - val_loss: 0.5700 - val_acc: 0.7260\n",
            "Epoch 584/600\n",
            "35367/35367 [==============================] - 0s 3us/step - loss: 0.5718 - acc: 0.7231 - val_loss: 0.5700 - val_acc: 0.7260\n",
            "Epoch 585/600\n",
            "35367/35367 [==============================] - 0s 3us/step - loss: 0.5718 - acc: 0.7231 - val_loss: 0.5701 - val_acc: 0.7260\n",
            "Epoch 586/600\n",
            "35367/35367 [==============================] - 0s 3us/step - loss: 0.5719 - acc: 0.7231 - val_loss: 0.5699 - val_acc: 0.7260\n",
            "Epoch 587/600\n",
            "35367/35367 [==============================] - 0s 3us/step - loss: 0.5718 - acc: 0.7231 - val_loss: 0.5699 - val_acc: 0.7260\n",
            "Epoch 588/600\n",
            "35367/35367 [==============================] - 0s 3us/step - loss: 0.5718 - acc: 0.7231 - val_loss: 0.5699 - val_acc: 0.7260\n",
            "Epoch 589/600\n",
            "35367/35367 [==============================] - 0s 3us/step - loss: 0.5718 - acc: 0.7231 - val_loss: 0.5699 - val_acc: 0.7260\n",
            "Epoch 590/600\n",
            "35367/35367 [==============================] - 0s 3us/step - loss: 0.5718 - acc: 0.7231 - val_loss: 0.5700 - val_acc: 0.7260\n",
            "Epoch 591/600\n",
            "35367/35367 [==============================] - 0s 3us/step - loss: 0.5719 - acc: 0.7231 - val_loss: 0.5699 - val_acc: 0.7260\n",
            "Epoch 592/600\n",
            "35367/35367 [==============================] - 0s 3us/step - loss: 0.5718 - acc: 0.7231 - val_loss: 0.5700 - val_acc: 0.7260\n",
            "Epoch 593/600\n",
            "35367/35367 [==============================] - 0s 3us/step - loss: 0.5719 - acc: 0.7231 - val_loss: 0.5700 - val_acc: 0.7260\n",
            "Epoch 594/600\n",
            "35367/35367 [==============================] - 0s 3us/step - loss: 0.5718 - acc: 0.7231 - val_loss: 0.5699 - val_acc: 0.7260\n",
            "Epoch 595/600\n",
            "35367/35367 [==============================] - 0s 3us/step - loss: 0.5718 - acc: 0.7231 - val_loss: 0.5699 - val_acc: 0.7260\n",
            "Epoch 596/600\n",
            "35367/35367 [==============================] - 0s 3us/step - loss: 0.5718 - acc: 0.7231 - val_loss: 0.5699 - val_acc: 0.7260\n",
            "Epoch 597/600\n",
            "35367/35367 [==============================] - 0s 3us/step - loss: 0.5719 - acc: 0.7231 - val_loss: 0.5699 - val_acc: 0.7260\n",
            "Epoch 598/600\n",
            "35367/35367 [==============================] - 0s 3us/step - loss: 0.5718 - acc: 0.7231 - val_loss: 0.5700 - val_acc: 0.7260\n",
            "Epoch 599/600\n",
            "35367/35367 [==============================] - 0s 3us/step - loss: 0.5718 - acc: 0.7231 - val_loss: 0.5701 - val_acc: 0.7260\n",
            "Epoch 600/600\n",
            "35367/35367 [==============================] - 0s 3us/step - loss: 0.5718 - acc: 0.7231 - val_loss: 0.5700 - val_acc: 0.7260\n"
          ],
          "name": "stdout"
        }
      ]
    },
    {
      "metadata": {
        "id": "zPzQoKm8KrS8",
        "colab_type": "code",
        "colab": {
          "base_uri": "https://localhost:8080/",
          "height": 376
        },
        "outputId": "7cdf51c9-5e7e-4ff9-b501-f216a0d98612"
      },
      "cell_type": "code",
      "source": [
        "history_dict = history.history\n",
        "loss_values = history_dict['loss']\n",
        "val_loss_values = history_dict['val_loss']\n",
        "epochs = range(1, len(loss_values) + 1)\n",
        "plt.plot(epochs, loss_values, 'bo', label='Training loss')\n",
        "plt.plot(epochs, val_loss_values, 'b', label='Validation loss')\n",
        "plt.title('Training and validation loss')\n",
        "plt.xlabel('Epochs')\n",
        "plt.ylabel('Loss')\n",
        "plt.legend()\n",
        "plt.show()"
      ],
      "execution_count": 116,
      "outputs": [
        {
          "output_type": "display_data",
          "data": {
            "image/png": "[encoded data removed]",
            "text/plain": [
              "<Figure size 576x396 with 1 Axes>"
            ]
          },
          "metadata": {
            "tags": []
          }
        }
      ]
    },
    {
      "metadata": {
        "id": "o5rkcfvwPs6F",
        "colab_type": "code",
        "colab": {
          "base_uri": "https://localhost:8080/",
          "height": 376
        },
        "outputId": "6d38b014-6b57-444f-84a5-e0dfd0948e39"
      },
      "cell_type": "code",
      "source": [
        "plt.clf()\n",
        "acc_values = history_dict['acc']\n",
        "val_acc_values = history_dict['val_acc']\n",
        "plt.plot(epochs, acc_values, 'bo', label='Training acc')\n",
        "plt.plot(epochs, val_acc_values, 'b', label='Validation acc')\n",
        "plt.title('Training and validation accuracy')\n",
        "plt.xlabel('Epochs')\n",
        "plt.ylabel('Loss')\n",
        "plt.legend()\n",
        "plt.show()"
      ],
      "execution_count": 117,
      "outputs": [
        {
          "output_type": "display_data",
          "data": {
            "image/png": "[encoded data removed]",
            "text/plain": [
              "<Figure size 576x396 with 1 Axes>"
            ]
          },
          "metadata": {
            "tags": []
          }
        }
      ]
    },
    {
      "metadata": {
        "id": "-7o4FtGCRf_b",
        "colab_type": "code",
        "colab": {}
      },
      "cell_type": "code",
      "source": [
        ""
      ],
      "execution_count": 0,
      "outputs": []
    }
  ]
}